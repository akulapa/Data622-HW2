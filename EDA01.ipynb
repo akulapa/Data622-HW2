{
 "cells": [
  {
   "cell_type": "markdown",
   "metadata": {},
   "source": [
    "### Exploratory Data Analysis(EDA)\n",
    "\n",
    "_Pavan Akula, September 15, 2018_\n",
    "\n",
    "The goal of this assignment is build a data pipeline in Python that downloads _Titanic_ data from _Kaggle_ website, trains a classification model using sklearn and score the model on the test dataset.\n",
    "\n",
    "Following steps are used to building the data pipeline. This notebook will focus mainly data imputation and model selection.\n",
    "\n",
    "1. Install Python and required libraries using Anaconda framework\n",
    "2. Download data from _Kaggle_ website\n",
    "3. Run statistical summeries and impute missing values\n",
    "4. Use visualzations to see spread of data in various categories\n",
    "5. Build a predictive model using _sklearn_ library\n",
    "6. Apply the model to test data to score it\n",
    "\n",
    "#### Dataset\n",
    "\n",
    "Dataset is downloaded from [Kaggle](https://www.kaggle.com/c/titanic/data), I will be using _train.csv_ to train the predictive model and _test.csv_ to score it. Since, _kaggle_ needs user name and password to download data, I have manually downloaded and uploaded to public repository on _Github_. For the scope of this analysis, I will be downloading the files from [Github](www.github.com/akulapa) and perform steps three through five."
   ]
  },
  {
   "cell_type": "code",
   "execution_count": 1,
   "metadata": {},
   "outputs": [],
   "source": [
    "#Load libraries\n",
    "import pandas as pd\n",
    "import numpy as np\n",
    "import seaborn as sns\n",
    "from matplotlib import pyplot as plt\n",
    "from sklearn.ensemble import RandomForestRegressor\n",
    "from sklearn.linear_model import LogisticRegression\n",
    "from sklearn.metrics import confusion_matrix as cm\n",
    "from sklearn.metrics import classification_report\n",
    "from sklearn.feature_selection import RFE\n",
    "from sklearn.metrics import roc_auc_score\n",
    "from sklearn.metrics import roc_curve\n",
    "from sklearn.base import BaseEstimator, TransformerMixin\n",
    "from sklearn.pipeline import Pipeline\n",
    "from sklearn.model_selection import GridSearchCV\n",
    "from sklearn.model_selection import cross_validate\n",
    "from sklearn.metrics import accuracy_score"
   ]
  },
  {
   "cell_type": "code",
   "execution_count": 2,
   "metadata": {},
   "outputs": [],
   "source": [
    "#Load dataset\n",
    "train = pd.read_csv('https://raw.githubusercontent.com/akulapa/Data622-HW2/master/train.csv')\n",
    "test = pd.read_csv('https://raw.githubusercontent.com/akulapa/Data622-HW2/master/test.csv')"
   ]
  },
  {
   "cell_type": "code",
   "execution_count": 3,
   "metadata": {},
   "outputs": [
    {
     "data": {
      "text/plain": [
       "Index(['PassengerId', 'Survived', 'Pclass', 'Name', 'Sex', 'Age', 'SibSp',\n",
       "       'Parch', 'Ticket', 'Fare', 'Cabin', 'Embarked'],\n",
       "      dtype='object')"
      ]
     },
     "execution_count": 3,
     "metadata": {},
     "output_type": "execute_result"
    }
   ],
   "source": [
    "train.columns"
   ]
  },
  {
   "cell_type": "code",
   "execution_count": 4,
   "metadata": {},
   "outputs": [
    {
     "data": {
      "text/html": [
       "<div>\n",
       "<style scoped>\n",
       "    .dataframe tbody tr th:only-of-type {\n",
       "        vertical-align: middle;\n",
       "    }\n",
       "\n",
       "    .dataframe tbody tr th {\n",
       "        vertical-align: top;\n",
       "    }\n",
       "\n",
       "    .dataframe thead th {\n",
       "        text-align: right;\n",
       "    }\n",
       "</style>\n",
       "<table border=\"1\" class=\"dataframe\">\n",
       "  <thead>\n",
       "    <tr style=\"text-align: right;\">\n",
       "      <th></th>\n",
       "      <th>PassengerId</th>\n",
       "      <th>Survived</th>\n",
       "      <th>Pclass</th>\n",
       "      <th>Name</th>\n",
       "      <th>Sex</th>\n",
       "      <th>Age</th>\n",
       "      <th>SibSp</th>\n",
       "      <th>Parch</th>\n",
       "      <th>Ticket</th>\n",
       "      <th>Fare</th>\n",
       "      <th>Cabin</th>\n",
       "      <th>Embarked</th>\n",
       "    </tr>\n",
       "  </thead>\n",
       "  <tbody>\n",
       "    <tr>\n",
       "      <th>0</th>\n",
       "      <td>1</td>\n",
       "      <td>0</td>\n",
       "      <td>3</td>\n",
       "      <td>Braund, Mr. Owen Harris</td>\n",
       "      <td>male</td>\n",
       "      <td>22.0</td>\n",
       "      <td>1</td>\n",
       "      <td>0</td>\n",
       "      <td>A/5 21171</td>\n",
       "      <td>7.2500</td>\n",
       "      <td>NaN</td>\n",
       "      <td>S</td>\n",
       "    </tr>\n",
       "    <tr>\n",
       "      <th>1</th>\n",
       "      <td>2</td>\n",
       "      <td>1</td>\n",
       "      <td>1</td>\n",
       "      <td>Cumings, Mrs. John Bradley (Florence Briggs Th...</td>\n",
       "      <td>female</td>\n",
       "      <td>38.0</td>\n",
       "      <td>1</td>\n",
       "      <td>0</td>\n",
       "      <td>PC 17599</td>\n",
       "      <td>71.2833</td>\n",
       "      <td>C85</td>\n",
       "      <td>C</td>\n",
       "    </tr>\n",
       "    <tr>\n",
       "      <th>2</th>\n",
       "      <td>3</td>\n",
       "      <td>1</td>\n",
       "      <td>3</td>\n",
       "      <td>Heikkinen, Miss. Laina</td>\n",
       "      <td>female</td>\n",
       "      <td>26.0</td>\n",
       "      <td>0</td>\n",
       "      <td>0</td>\n",
       "      <td>STON/O2. 3101282</td>\n",
       "      <td>7.9250</td>\n",
       "      <td>NaN</td>\n",
       "      <td>S</td>\n",
       "    </tr>\n",
       "    <tr>\n",
       "      <th>3</th>\n",
       "      <td>4</td>\n",
       "      <td>1</td>\n",
       "      <td>1</td>\n",
       "      <td>Futrelle, Mrs. Jacques Heath (Lily May Peel)</td>\n",
       "      <td>female</td>\n",
       "      <td>35.0</td>\n",
       "      <td>1</td>\n",
       "      <td>0</td>\n",
       "      <td>113803</td>\n",
       "      <td>53.1000</td>\n",
       "      <td>C123</td>\n",
       "      <td>S</td>\n",
       "    </tr>\n",
       "    <tr>\n",
       "      <th>4</th>\n",
       "      <td>5</td>\n",
       "      <td>0</td>\n",
       "      <td>3</td>\n",
       "      <td>Allen, Mr. William Henry</td>\n",
       "      <td>male</td>\n",
       "      <td>35.0</td>\n",
       "      <td>0</td>\n",
       "      <td>0</td>\n",
       "      <td>373450</td>\n",
       "      <td>8.0500</td>\n",
       "      <td>NaN</td>\n",
       "      <td>S</td>\n",
       "    </tr>\n",
       "  </tbody>\n",
       "</table>\n",
       "</div>"
      ],
      "text/plain": [
       "   PassengerId  Survived  Pclass  \\\n",
       "0            1         0       3   \n",
       "1            2         1       1   \n",
       "2            3         1       3   \n",
       "3            4         1       1   \n",
       "4            5         0       3   \n",
       "\n",
       "                                                Name     Sex   Age  SibSp  \\\n",
       "0                            Braund, Mr. Owen Harris    male  22.0      1   \n",
       "1  Cumings, Mrs. John Bradley (Florence Briggs Th...  female  38.0      1   \n",
       "2                             Heikkinen, Miss. Laina  female  26.0      0   \n",
       "3       Futrelle, Mrs. Jacques Heath (Lily May Peel)  female  35.0      1   \n",
       "4                           Allen, Mr. William Henry    male  35.0      0   \n",
       "\n",
       "   Parch            Ticket     Fare Cabin Embarked  \n",
       "0      0         A/5 21171   7.2500   NaN        S  \n",
       "1      0          PC 17599  71.2833   C85        C  \n",
       "2      0  STON/O2. 3101282   7.9250   NaN        S  \n",
       "3      0            113803  53.1000  C123        S  \n",
       "4      0            373450   8.0500   NaN        S  "
      ]
     },
     "execution_count": 4,
     "metadata": {},
     "output_type": "execute_result"
    }
   ],
   "source": [
    "train.head()"
   ]
  },
  {
   "cell_type": "markdown",
   "metadata": {},
   "source": [
    "Training dataset has \n",
    "\n",
    "- PassengerId, it is running integer value to identify each passenger\n",
    "- Survived, column contains binary value _0 or 1_, indicating if passenger survived in tragic Titanic accident\n",
    "- Pclass, this is a categorical column with values _1, 2, and 3_, indicating passenger accomidation class\n",
    "- Name, passenger name, it is combination of last name, prefix and first name\n",
    "- Sex, gender of the passenger\n",
    "- Age, age of the passenger, it is given as decimal\n",
    "- SibSp, siblings and spouses traveling with the passenger\n",
    "- Parch, number of parents and children traveling with the passenger\n",
    "- Ticket, ticket numbers\n",
    "- Cabin, cabin allocated to the passenger\n",
    "- Embarked, port for which passenger boarded the ship, C = Cherbourg, Q = Queenstown, S = Southampton"
   ]
  },
  {
   "cell_type": "code",
   "execution_count": 5,
   "metadata": {},
   "outputs": [
    {
     "data": {
      "text/plain": [
       "Index(['PassengerId', 'Survived', 'Pclass', 'Name', 'Sex', 'Age', 'SibSp',\n",
       "       'Parch', 'Ticket', 'Fare', 'Cabin', 'Embarked'],\n",
       "      dtype='object')"
      ]
     },
     "execution_count": 5,
     "metadata": {},
     "output_type": "execute_result"
    }
   ],
   "source": [
    "train.columns"
   ]
  },
  {
   "cell_type": "code",
   "execution_count": 6,
   "metadata": {},
   "outputs": [
    {
     "data": {
      "text/plain": [
       "Index(['PassengerId', 'Pclass', 'Name', 'Sex', 'Age', 'SibSp', 'Parch',\n",
       "       'Ticket', 'Fare', 'Cabin', 'Embarked'],\n",
       "      dtype='object')"
      ]
     },
     "execution_count": 6,
     "metadata": {},
     "output_type": "execute_result"
    }
   ],
   "source": [
    "test.columns"
   ]
  },
  {
   "cell_type": "code",
   "execution_count": 7,
   "metadata": {},
   "outputs": [
    {
     "data": {
      "text/html": [
       "<div>\n",
       "<style scoped>\n",
       "    .dataframe tbody tr th:only-of-type {\n",
       "        vertical-align: middle;\n",
       "    }\n",
       "\n",
       "    .dataframe tbody tr th {\n",
       "        vertical-align: top;\n",
       "    }\n",
       "\n",
       "    .dataframe thead th {\n",
       "        text-align: right;\n",
       "    }\n",
       "</style>\n",
       "<table border=\"1\" class=\"dataframe\">\n",
       "  <thead>\n",
       "    <tr style=\"text-align: right;\">\n",
       "      <th></th>\n",
       "      <th>PassengerId</th>\n",
       "      <th>Pclass</th>\n",
       "      <th>Name</th>\n",
       "      <th>Sex</th>\n",
       "      <th>Age</th>\n",
       "      <th>SibSp</th>\n",
       "      <th>Parch</th>\n",
       "      <th>Ticket</th>\n",
       "      <th>Fare</th>\n",
       "      <th>Cabin</th>\n",
       "      <th>Embarked</th>\n",
       "    </tr>\n",
       "  </thead>\n",
       "  <tbody>\n",
       "    <tr>\n",
       "      <th>0</th>\n",
       "      <td>892</td>\n",
       "      <td>3</td>\n",
       "      <td>Kelly, Mr. James</td>\n",
       "      <td>male</td>\n",
       "      <td>34.5</td>\n",
       "      <td>0</td>\n",
       "      <td>0</td>\n",
       "      <td>330911</td>\n",
       "      <td>7.8292</td>\n",
       "      <td>NaN</td>\n",
       "      <td>Q</td>\n",
       "    </tr>\n",
       "    <tr>\n",
       "      <th>1</th>\n",
       "      <td>893</td>\n",
       "      <td>3</td>\n",
       "      <td>Wilkes, Mrs. James (Ellen Needs)</td>\n",
       "      <td>female</td>\n",
       "      <td>47.0</td>\n",
       "      <td>1</td>\n",
       "      <td>0</td>\n",
       "      <td>363272</td>\n",
       "      <td>7.0000</td>\n",
       "      <td>NaN</td>\n",
       "      <td>S</td>\n",
       "    </tr>\n",
       "    <tr>\n",
       "      <th>2</th>\n",
       "      <td>894</td>\n",
       "      <td>2</td>\n",
       "      <td>Myles, Mr. Thomas Francis</td>\n",
       "      <td>male</td>\n",
       "      <td>62.0</td>\n",
       "      <td>0</td>\n",
       "      <td>0</td>\n",
       "      <td>240276</td>\n",
       "      <td>9.6875</td>\n",
       "      <td>NaN</td>\n",
       "      <td>Q</td>\n",
       "    </tr>\n",
       "    <tr>\n",
       "      <th>3</th>\n",
       "      <td>895</td>\n",
       "      <td>3</td>\n",
       "      <td>Wirz, Mr. Albert</td>\n",
       "      <td>male</td>\n",
       "      <td>27.0</td>\n",
       "      <td>0</td>\n",
       "      <td>0</td>\n",
       "      <td>315154</td>\n",
       "      <td>8.6625</td>\n",
       "      <td>NaN</td>\n",
       "      <td>S</td>\n",
       "    </tr>\n",
       "    <tr>\n",
       "      <th>4</th>\n",
       "      <td>896</td>\n",
       "      <td>3</td>\n",
       "      <td>Hirvonen, Mrs. Alexander (Helga E Lindqvist)</td>\n",
       "      <td>female</td>\n",
       "      <td>22.0</td>\n",
       "      <td>1</td>\n",
       "      <td>1</td>\n",
       "      <td>3101298</td>\n",
       "      <td>12.2875</td>\n",
       "      <td>NaN</td>\n",
       "      <td>S</td>\n",
       "    </tr>\n",
       "  </tbody>\n",
       "</table>\n",
       "</div>"
      ],
      "text/plain": [
       "   PassengerId  Pclass                                          Name     Sex  \\\n",
       "0          892       3                              Kelly, Mr. James    male   \n",
       "1          893       3              Wilkes, Mrs. James (Ellen Needs)  female   \n",
       "2          894       2                     Myles, Mr. Thomas Francis    male   \n",
       "3          895       3                              Wirz, Mr. Albert    male   \n",
       "4          896       3  Hirvonen, Mrs. Alexander (Helga E Lindqvist)  female   \n",
       "\n",
       "    Age  SibSp  Parch   Ticket     Fare Cabin Embarked  \n",
       "0  34.5      0      0   330911   7.8292   NaN        Q  \n",
       "1  47.0      1      0   363272   7.0000   NaN        S  \n",
       "2  62.0      0      0   240276   9.6875   NaN        Q  \n",
       "3  27.0      0      0   315154   8.6625   NaN        S  \n",
       "4  22.0      1      1  3101298  12.2875   NaN        S  "
      ]
     },
     "execution_count": 7,
     "metadata": {},
     "output_type": "execute_result"
    }
   ],
   "source": [
    "test.head()"
   ]
  },
  {
   "cell_type": "markdown",
   "metadata": {},
   "source": [
    "Test dataset has same columns as training dataset, excepct it does not have _Survived_ column.\n",
    "\n",
    "#### Variable Evaluation\n",
    "\n",
    "Let see if all the variables has data and how it can be used to build the model. Idea is to convert all the variables into numeric equivalent where possible. Cases where variable is not possible to convert into numeric, we should be able to convert them into categorical values.\n",
    "\n",
    "Starting with variable _Name_, it is in _lastname_, _prefix_ and _firstname_ format. It also has additional information next to _firstname_ within parentisis. Complete name may not be useful in model building. Hence, we will extract _prefix_ and store into new variable _Title_ that could be more useful in building predictive model.\n",
    "\n",
    "Variable _Cabin_, upon investigation I found first letter in the values denote deck that was assigned to passenger. I believe deck would be more useful to predicting passenger survival.\n",
    "\n",
    "Next in the variable sequence is _Ticket_, it is given as an alpha-numeric value. Intuitively, a numeric part of the value could be more useful in building a predictive model.\n",
    "\n",
    "Variables _SibSp_ and _Parch_ could be used to derive total members in a passengers family. Ultimately, deriving the size of the family.\n",
    "\n",
    "Finally, we have a dataset where every variable is either numeric or categorical. Now we can drop variables _Name_, _Cabin_, _Ticket_ and _Family_.\n"
   ]
  },
  {
   "cell_type": "code",
   "execution_count": 8,
   "metadata": {},
   "outputs": [],
   "source": [
    "class derivedColumns(BaseEstimator, TransformerMixin):\n",
    "    \"\"\"\n",
    "    This function creates derived columns using existing columns.\n",
    "    \"\"\"\n",
    "    def __init__(self, columns):\n",
    "        self.columns = columns\n",
    "    \n",
    "    def fit(self, X, *_):\n",
    "        return self\n",
    "    \n",
    "    def transform(self, X, *_):\n",
    "        \n",
    "        df = X.copy()\n",
    "        \n",
    "        def cleanTicket(ticket):\n",
    "            #Extract numeric values from ticket\n",
    "            ticket = ticket.replace('.','')\n",
    "            ticket = ticket.replace('/','')\n",
    "            ticket = ticket.split()\n",
    "            ticket = map(lambda t : t.strip(), ticket)\n",
    "            ticket = filter(lambda t : t.isdigit(), ticket)\n",
    "            ticket = ''.join(ticket)\n",
    "            if len(ticket) > 0:\n",
    "                return ticket\n",
    "            else: \n",
    "                return np.nan\n",
    "            \n",
    "        #Based on column extract derived columns\n",
    "        if self.columns is not None:\n",
    "            for column in self.columns:\n",
    "                \n",
    "                if column == 'Name':\n",
    "                    #Wikipedia suggests \"Jonkheer\" and \"Countess\" is honorific titile\n",
    "                    #https://en.wikipedia.org/wiki/Jonkheer\n",
    "                    #https://en.wikipedia.org/wiki/Count\n",
    "                    #Create dictionary and map them more generic values\n",
    "\n",
    "                    Title_Dictionary = {\n",
    "                        \"Capt\": \"Officer\", \"Col\": \"Officer\", \"Major\": \"Officer\", \"Jonkheer\": \"Royalty\",\n",
    "                        \"Don\": \"Royalty\", \"Sir\" : \"Royalty\", \"Dr\": \"Officer\", \"Rev\": \"Officer\",\n",
    "                        \"the Countess\":\"Royalty\", \"Mme\": \"Mrs\", \"Mlle\": \"Miss\", \"Ms\": \"Mrs\",\n",
    "                        \"Mr\" : \"Mr\", \"Mrs\" : \"Mrs\", \"Miss\" : \"Miss\", \"Master\" : \"Master\", \"Lady\" : \"Royalty\"\n",
    "                    }\n",
    "\n",
    "                    #Split name as comma seperated values and get second value(1) from the list\n",
    "                    #Split the value again based on seperator(.), get first value(0)\n",
    "                    #ultimately get prefix value\n",
    "                    df['Title'] = df['Name'].map(lambda Name:Name.split(',')[1].split('.')[0].strip())\n",
    "                    df['Title'] = df.Title.map(Title_Dictionary)\n",
    "\n",
    "                if column == 'Ticket':\n",
    "                    # map cleanTicket function and extract the value for each row:\n",
    "                    df['TicketNumber'] = df['Ticket'].map(cleanTicket)\n",
    "\n",
    "                if column == 'Family':\n",
    "                    #Get number of members in the family\n",
    "                    #Get family size\n",
    "                    df['Family'] = (df['Parch'] + df['SibSp']).map(lambda s: 'Single' if s <= 1 else 'Small' if s >= 2 and s < 5 else 'Large' if s >= 5 else 'Unknown')\n",
    "                    \n",
    "                if column == 'Deck':\n",
    "                    #Extract first letter from Cabin value, store it into new column 'Deck'\n",
    "                    df['Deck'] = df.Cabin.str[0]\n",
    "        return df\n",
    "    \n",
    "class eliminateColumns(BaseEstimator, TransformerMixin):\n",
    "    \"\"\"\n",
    "    This function removed columns from dataset.\n",
    "    \"\"\"\n",
    "    def __init__(self, columns):\n",
    "        self.columns = columns\n",
    "    \n",
    "    def fit(self, X, *_):\n",
    "        return self\n",
    "    \n",
    "    def transform(self, X, *_):\n",
    "        \n",
    "        df = X.copy()\n",
    "        \n",
    "        if self.columns is not None:\n",
    "            #Drop the variables\n",
    "            df.drop(self.columns, inplace=True, axis=1)\n",
    "       \n",
    "        return df\n",
    "\n",
    "class imputeColumns(BaseEstimator, TransformerMixin):\n",
    "    \"\"\"\n",
    "    This function fills in missing values in the dataset.\n",
    "    \"\"\"\n",
    "    def __init__(self, columns):\n",
    "        self.columns = columns\n",
    "    \n",
    "    def fit(self, X, *_):\n",
    "        return self\n",
    "    \n",
    "    def transform(self, X, *_):\n",
    "        \n",
    "        #Copy train dataset, make transformations on df\n",
    "        df = X.copy()\n",
    "        \n",
    "        def getTitle(gender):\n",
    "            #Impute missing title based on gender\n",
    "            title = ''\n",
    "            if gender == 'female':\n",
    "                title = 'Miss'\n",
    "            else:\n",
    "                title = 'Mr'\n",
    "            return title\n",
    "            \n",
    "        \n",
    "        if self.columns is not None:\n",
    "            for column in self.columns:\n",
    "                #Impute title, get null values and apply function getTitle using lambda\n",
    "                if column == 'Title':\n",
    "                    dfTitle = df[df['Title'].isnull()]\n",
    "                    \n",
    "                    title = dfTitle.apply(lambda row: getTitle(row['Sex']), axis=1)\n",
    "                    df.loc[(df.Title.isnull()), 'Title'] = title\n",
    "                    \n",
    "                if column == 'Fare':\n",
    "                    #Get median fare based on boarding port\n",
    "                    fareMedian = df[((df['Fare'].notnull()) & (df['Embarked']=='S'))].Fare.median()\n",
    "                    df['Fare'] = df['Fare'].fillna(float(fareMedian))\n",
    "                \n",
    "                if column == 'Deck':\n",
    "                    #Since there more observations make missing Deck into its own category\n",
    "                    df['Deck'] = df['Deck'].fillna('U')\n",
    "                \n",
    "                if column == 'TicketNumber':\n",
    "                    #Get median value\n",
    "                    #Replace missing ticketNumber by median values\n",
    "                    ticketMedian = df[df['TicketNumber'].notnull()].TicketNumber.median()\n",
    "                    df['TicketNumber'] = df['TicketNumber'].fillna(int(ticketMedian))\n",
    "                    \n",
    "                if column == 'Embarked':\n",
    "                    #As fare matches the average fare impute missing value with 'C'\n",
    "                    df['Embarked'] = df['Embarked'].fillna('C')\n",
    "                if column == 'Age':\n",
    "\n",
    "                    #Convet values into numeric categorical values\n",
    "                    df['Sex'] = df['Sex'].map({'female':0, 'male':1})\n",
    "                    df['Family'] = df['Family'].map({'Single':0, 'Small':1, 'Large':2})\n",
    "                    df['Title'] = df['Title'].map({'Mrs':0, 'Miss':1, 'Mr':2, 'Master':3, 'Officer':4, 'Royalty':5})\n",
    "                    df['Embarked'] = df['Embarked'].map({'C':0, 'Q':1, 'S':2})\n",
    "                    df['Deck'] = df['Deck'].map({'A':0, 'B':1, 'C':2, 'D':3, 'E':4, 'F':5, 'G':6, 'T':7, 'U':8})\n",
    "\n",
    "                    #Convert variables into categorical variables\n",
    "                    df['Sex'] = df['Sex'].astype('category')\n",
    "                    df['Family'] = df['Family'].astype('category')\n",
    "                    df['Title'] = df['Title'].astype('category')\n",
    "                    df['Embarked'] = df['Embarked'].astype('category')\n",
    "                    df['Deck'] = df['Deck'].astype('category')\n",
    "                    df['Pclass'] = df['Pclass'].astype('category')\n",
    "\n",
    "                    #Get observations with non NA values for Age\n",
    "                    train_age = df.loc[(df.Age.notnull())]\n",
    "\n",
    "                    #Get observations with NA values for Age\n",
    "                    test_age = df.loc[(df.Age.isnull())]\n",
    "\n",
    "                    #Seperate X and y values for training dataset\n",
    "                    X_age_train = train_age.drop('Age', axis=1).values\n",
    "                    y_age_train = train_age['Age'].values\n",
    "\n",
    "                    #As we will imputing missing Age values, drop the column from test dataset\n",
    "                    X_age_test = test_age.drop('Age', axis=1).values\n",
    "\n",
    "                    #Lets use all parameters as default, with number trees as 500 in random forest regressor\n",
    "                    ramdomForest = RandomForestRegressor(n_estimators=500, n_jobs=-1)\n",
    "                    ramdomForest.fit(X_age_train, y_age_train)\n",
    "\n",
    "                    #Predict the missing values\n",
    "                    predictedAges = ramdomForest.predict(X_age_test)\n",
    "\n",
    "                    #Apply to the dataset\n",
    "                    df.loc[(df.Age.isnull()), 'Age'] = predictedAges\n",
    "\n",
    "\n",
    "        return df"
   ]
  },
  {
   "cell_type": "code",
   "execution_count": 9,
   "metadata": {},
   "outputs": [],
   "source": [
    "#Split dataset into dependent and non-dependent dataset\n",
    "X_train = train.drop('Survived', axis=1)\n",
    "y_train = train['Survived']"
   ]
  },
  {
   "cell_type": "code",
   "execution_count": 10,
   "metadata": {},
   "outputs": [
    {
     "name": "stdout",
     "output_type": "stream",
     "text": [
      "(891, 15)\n"
     ]
    },
    {
     "data": {
      "text/html": [
       "<div>\n",
       "<style scoped>\n",
       "    .dataframe tbody tr th:only-of-type {\n",
       "        vertical-align: middle;\n",
       "    }\n",
       "\n",
       "    .dataframe tbody tr th {\n",
       "        vertical-align: top;\n",
       "    }\n",
       "\n",
       "    .dataframe thead th {\n",
       "        text-align: right;\n",
       "    }\n",
       "</style>\n",
       "<table border=\"1\" class=\"dataframe\">\n",
       "  <thead>\n",
       "    <tr style=\"text-align: right;\">\n",
       "      <th></th>\n",
       "      <th>PassengerId</th>\n",
       "      <th>Pclass</th>\n",
       "      <th>Name</th>\n",
       "      <th>Sex</th>\n",
       "      <th>Age</th>\n",
       "      <th>SibSp</th>\n",
       "      <th>Parch</th>\n",
       "      <th>Ticket</th>\n",
       "      <th>Fare</th>\n",
       "      <th>Cabin</th>\n",
       "      <th>Embarked</th>\n",
       "      <th>Title</th>\n",
       "      <th>TicketNumber</th>\n",
       "      <th>Family</th>\n",
       "      <th>Deck</th>\n",
       "    </tr>\n",
       "  </thead>\n",
       "  <tbody>\n",
       "    <tr>\n",
       "      <th>0</th>\n",
       "      <td>1</td>\n",
       "      <td>3</td>\n",
       "      <td>Braund, Mr. Owen Harris</td>\n",
       "      <td>male</td>\n",
       "      <td>22.0</td>\n",
       "      <td>1</td>\n",
       "      <td>0</td>\n",
       "      <td>A/5 21171</td>\n",
       "      <td>7.2500</td>\n",
       "      <td>NaN</td>\n",
       "      <td>S</td>\n",
       "      <td>Mr</td>\n",
       "      <td>21171</td>\n",
       "      <td>Single</td>\n",
       "      <td>NaN</td>\n",
       "    </tr>\n",
       "    <tr>\n",
       "      <th>1</th>\n",
       "      <td>2</td>\n",
       "      <td>1</td>\n",
       "      <td>Cumings, Mrs. John Bradley (Florence Briggs Th...</td>\n",
       "      <td>female</td>\n",
       "      <td>38.0</td>\n",
       "      <td>1</td>\n",
       "      <td>0</td>\n",
       "      <td>PC 17599</td>\n",
       "      <td>71.2833</td>\n",
       "      <td>C85</td>\n",
       "      <td>C</td>\n",
       "      <td>Mrs</td>\n",
       "      <td>17599</td>\n",
       "      <td>Single</td>\n",
       "      <td>C</td>\n",
       "    </tr>\n",
       "    <tr>\n",
       "      <th>2</th>\n",
       "      <td>3</td>\n",
       "      <td>3</td>\n",
       "      <td>Heikkinen, Miss. Laina</td>\n",
       "      <td>female</td>\n",
       "      <td>26.0</td>\n",
       "      <td>0</td>\n",
       "      <td>0</td>\n",
       "      <td>STON/O2. 3101282</td>\n",
       "      <td>7.9250</td>\n",
       "      <td>NaN</td>\n",
       "      <td>S</td>\n",
       "      <td>Miss</td>\n",
       "      <td>3101282</td>\n",
       "      <td>Single</td>\n",
       "      <td>NaN</td>\n",
       "    </tr>\n",
       "    <tr>\n",
       "      <th>3</th>\n",
       "      <td>4</td>\n",
       "      <td>1</td>\n",
       "      <td>Futrelle, Mrs. Jacques Heath (Lily May Peel)</td>\n",
       "      <td>female</td>\n",
       "      <td>35.0</td>\n",
       "      <td>1</td>\n",
       "      <td>0</td>\n",
       "      <td>113803</td>\n",
       "      <td>53.1000</td>\n",
       "      <td>C123</td>\n",
       "      <td>S</td>\n",
       "      <td>Mrs</td>\n",
       "      <td>113803</td>\n",
       "      <td>Single</td>\n",
       "      <td>C</td>\n",
       "    </tr>\n",
       "    <tr>\n",
       "      <th>4</th>\n",
       "      <td>5</td>\n",
       "      <td>3</td>\n",
       "      <td>Allen, Mr. William Henry</td>\n",
       "      <td>male</td>\n",
       "      <td>35.0</td>\n",
       "      <td>0</td>\n",
       "      <td>0</td>\n",
       "      <td>373450</td>\n",
       "      <td>8.0500</td>\n",
       "      <td>NaN</td>\n",
       "      <td>S</td>\n",
       "      <td>Mr</td>\n",
       "      <td>373450</td>\n",
       "      <td>Single</td>\n",
       "      <td>NaN</td>\n",
       "    </tr>\n",
       "  </tbody>\n",
       "</table>\n",
       "</div>"
      ],
      "text/plain": [
       "   PassengerId  Pclass                                               Name  \\\n",
       "0            1       3                            Braund, Mr. Owen Harris   \n",
       "1            2       1  Cumings, Mrs. John Bradley (Florence Briggs Th...   \n",
       "2            3       3                             Heikkinen, Miss. Laina   \n",
       "3            4       1       Futrelle, Mrs. Jacques Heath (Lily May Peel)   \n",
       "4            5       3                           Allen, Mr. William Henry   \n",
       "\n",
       "      Sex   Age  SibSp  Parch            Ticket     Fare Cabin Embarked Title  \\\n",
       "0    male  22.0      1      0         A/5 21171   7.2500   NaN        S    Mr   \n",
       "1  female  38.0      1      0          PC 17599  71.2833   C85        C   Mrs   \n",
       "2  female  26.0      0      0  STON/O2. 3101282   7.9250   NaN        S  Miss   \n",
       "3  female  35.0      1      0            113803  53.1000  C123        S   Mrs   \n",
       "4    male  35.0      0      0            373450   8.0500   NaN        S    Mr   \n",
       "\n",
       "  TicketNumber  Family Deck  \n",
       "0        21171  Single  NaN  \n",
       "1        17599  Single    C  \n",
       "2      3101282  Single  NaN  \n",
       "3       113803  Single    C  \n",
       "4       373450  Single  NaN  "
      ]
     },
     "execution_count": 10,
     "metadata": {},
     "output_type": "execute_result"
    }
   ],
   "source": [
    "#New variables are derived using following\n",
    "derived_cols = ['Name', 'Ticket', 'Family', 'Deck']\n",
    "dPipeLine = Pipeline([\n",
    "    \n",
    "    ('d_cols', derivedColumns( derived_cols ))\n",
    "])\n",
    "\n",
    "#Display output\n",
    "pipelineOutput = dPipeLine.fit_transform(X_train)\n",
    "print(pipelineOutput.shape)\n",
    "pipelineOutput.head()"
   ]
  },
  {
   "cell_type": "code",
   "execution_count": 11,
   "metadata": {},
   "outputs": [
    {
     "name": "stdout",
     "output_type": "stream",
     "text": [
      "(891, 11)\n"
     ]
    },
    {
     "data": {
      "text/html": [
       "<div>\n",
       "<style scoped>\n",
       "    .dataframe tbody tr th:only-of-type {\n",
       "        vertical-align: middle;\n",
       "    }\n",
       "\n",
       "    .dataframe tbody tr th {\n",
       "        vertical-align: top;\n",
       "    }\n",
       "\n",
       "    .dataframe thead th {\n",
       "        text-align: right;\n",
       "    }\n",
       "</style>\n",
       "<table border=\"1\" class=\"dataframe\">\n",
       "  <thead>\n",
       "    <tr style=\"text-align: right;\">\n",
       "      <th></th>\n",
       "      <th>Pclass</th>\n",
       "      <th>Sex</th>\n",
       "      <th>Age</th>\n",
       "      <th>SibSp</th>\n",
       "      <th>Parch</th>\n",
       "      <th>Fare</th>\n",
       "      <th>Embarked</th>\n",
       "      <th>Title</th>\n",
       "      <th>TicketNumber</th>\n",
       "      <th>Family</th>\n",
       "      <th>Deck</th>\n",
       "    </tr>\n",
       "  </thead>\n",
       "  <tbody>\n",
       "    <tr>\n",
       "      <th>0</th>\n",
       "      <td>3</td>\n",
       "      <td>male</td>\n",
       "      <td>22.0</td>\n",
       "      <td>1</td>\n",
       "      <td>0</td>\n",
       "      <td>7.2500</td>\n",
       "      <td>S</td>\n",
       "      <td>Mr</td>\n",
       "      <td>21171</td>\n",
       "      <td>Single</td>\n",
       "      <td>NaN</td>\n",
       "    </tr>\n",
       "    <tr>\n",
       "      <th>1</th>\n",
       "      <td>1</td>\n",
       "      <td>female</td>\n",
       "      <td>38.0</td>\n",
       "      <td>1</td>\n",
       "      <td>0</td>\n",
       "      <td>71.2833</td>\n",
       "      <td>C</td>\n",
       "      <td>Mrs</td>\n",
       "      <td>17599</td>\n",
       "      <td>Single</td>\n",
       "      <td>C</td>\n",
       "    </tr>\n",
       "    <tr>\n",
       "      <th>2</th>\n",
       "      <td>3</td>\n",
       "      <td>female</td>\n",
       "      <td>26.0</td>\n",
       "      <td>0</td>\n",
       "      <td>0</td>\n",
       "      <td>7.9250</td>\n",
       "      <td>S</td>\n",
       "      <td>Miss</td>\n",
       "      <td>3101282</td>\n",
       "      <td>Single</td>\n",
       "      <td>NaN</td>\n",
       "    </tr>\n",
       "    <tr>\n",
       "      <th>3</th>\n",
       "      <td>1</td>\n",
       "      <td>female</td>\n",
       "      <td>35.0</td>\n",
       "      <td>1</td>\n",
       "      <td>0</td>\n",
       "      <td>53.1000</td>\n",
       "      <td>S</td>\n",
       "      <td>Mrs</td>\n",
       "      <td>113803</td>\n",
       "      <td>Single</td>\n",
       "      <td>C</td>\n",
       "    </tr>\n",
       "    <tr>\n",
       "      <th>4</th>\n",
       "      <td>3</td>\n",
       "      <td>male</td>\n",
       "      <td>35.0</td>\n",
       "      <td>0</td>\n",
       "      <td>0</td>\n",
       "      <td>8.0500</td>\n",
       "      <td>S</td>\n",
       "      <td>Mr</td>\n",
       "      <td>373450</td>\n",
       "      <td>Single</td>\n",
       "      <td>NaN</td>\n",
       "    </tr>\n",
       "  </tbody>\n",
       "</table>\n",
       "</div>"
      ],
      "text/plain": [
       "   Pclass     Sex   Age  SibSp  Parch     Fare Embarked Title TicketNumber  \\\n",
       "0       3    male  22.0      1      0   7.2500        S    Mr        21171   \n",
       "1       1  female  38.0      1      0  71.2833        C   Mrs        17599   \n",
       "2       3  female  26.0      0      0   7.9250        S  Miss      3101282   \n",
       "3       1  female  35.0      1      0  53.1000        S   Mrs       113803   \n",
       "4       3    male  35.0      0      0   8.0500        S    Mr       373450   \n",
       "\n",
       "   Family Deck  \n",
       "0  Single  NaN  \n",
       "1  Single    C  \n",
       "2  Single  NaN  \n",
       "3  Single    C  \n",
       "4  Single  NaN  "
      ]
     },
     "execution_count": 11,
     "metadata": {},
     "output_type": "execute_result"
    }
   ],
   "source": [
    "#Remove not used columns\n",
    "elmi_cols = ['Name', 'Ticket', 'Cabin', 'PassengerId']\n",
    "ePipeLine = Pipeline([\n",
    "    \n",
    "    ('d_cols', dPipeLine),\n",
    "    ('e_cols', eliminateColumns( elmi_cols ))\n",
    "])\n",
    "\n",
    "#Display output\n",
    "pipelineOutput = ePipeLine.fit_transform(X_train)\n",
    "print(pipelineOutput.shape)\n",
    "pipelineOutput.head()"
   ]
  },
  {
   "cell_type": "code",
   "execution_count": 12,
   "metadata": {},
   "outputs": [
    {
     "data": {
      "text/plain": [
       "Pclass            0\n",
       "Sex               0\n",
       "Age             177\n",
       "SibSp             0\n",
       "Parch             0\n",
       "Fare              0\n",
       "Embarked          2\n",
       "Title             0\n",
       "TicketNumber      4\n",
       "Family            0\n",
       "Deck            687\n",
       "dtype: int64"
      ]
     },
     "execution_count": 12,
     "metadata": {},
     "output_type": "execute_result"
    }
   ],
   "source": [
    "#Columns with null values\n",
    "pipelineOutput.isnull().sum()"
   ]
  },
  {
   "cell_type": "code",
   "execution_count": 13,
   "metadata": {},
   "outputs": [
    {
     "data": {
      "text/plain": [
       "Text(0.5,1,'Variables with missing values')"
      ]
     },
     "execution_count": 13,
     "metadata": {},
     "output_type": "execute_result"
    },
    {
     "data": {
      "image/png": "[encoded data removed]",
      "text/plain": [
       "<Figure size 1440x360 with 1 Axes>"
      ]
     },
     "metadata": {},
     "output_type": "display_data"
    }
   ],
   "source": [
    "#Get null columns\n",
    "null_columns=pipelineOutput.columns[pipelineOutput.isnull().any()]\n",
    "\n",
    "#Graphical representation\n",
    "labels = []\n",
    "values = []\n",
    "for col in null_columns:\n",
    "    labels.append(col)\n",
    "    values.append(pipelineOutput[col].isnull().sum())\n",
    "ind = np.arange(len(labels))\n",
    "width=0.6\n",
    "fig, ax = plt.subplots(figsize=(20,5))\n",
    "ax.grid()\n",
    "rects = ax.barh(ind, np.array(values), color='steelblue')\n",
    "ax.set_yticks(ind+((width)/5.))\n",
    "ax.set_yticklabels(labels, rotation='horizontal')\n",
    "ax.set_xlabel(\"Count of missing values\")\n",
    "ax.set_ylabel(\"Column Names\")\n",
    "ax.set_title(\"Variables with missing values\")"
   ]
  },
  {
   "cell_type": "markdown",
   "metadata": {},
   "source": [
    "There are four variables, _Age_, _Embarked_, _Deck_ and _TicketNumber_ with missing values. \n",
    "\n",
    "\n",
    "Starting with _Embarked_ let's impute one variable at a time. Possible values for _Embarked_ are C = Cherbourg, Q = Queenstown, S = Southampton."
   ]
  },
  {
   "cell_type": "code",
   "execution_count": 14,
   "metadata": {},
   "outputs": [
    {
     "data": {
      "image/png": "[encoded data removed]",
      "text/plain": [
       "<Figure size 432x288 with 1 Axes>"
      ]
     },
     "metadata": {},
     "output_type": "display_data"
    }
   ],
   "source": [
    "pipelineOutput.Embarked.value_counts().plot(kind='bar', color='steelblue', grid=True, rot=0)\n",
    "plt.title(\"Passengers per boarding location\");"
   ]
  },
  {
   "cell_type": "code",
   "execution_count": 15,
   "metadata": {},
   "outputs": [
    {
     "data": {
      "text/plain": [
       "Embarked\n",
       "C    59.954144\n",
       "Q    13.276030\n",
       "S    27.079812\n",
       "Name: Fare, dtype: float64"
      ]
     },
     "execution_count": 15,
     "metadata": {},
     "output_type": "execute_result"
    }
   ],
   "source": [
    "#Get average price per port\n",
    "pipelineOutput.groupby('Embarked').agg('mean')['Fare']"
   ]
  },
  {
   "cell_type": "code",
   "execution_count": 16,
   "metadata": {},
   "outputs": [
    {
     "data": {
      "image/png": "[encoded data removed]",
      "text/plain": [
       "<Figure size 432x288 with 1 Axes>"
      ]
     },
     "metadata": {},
     "output_type": "display_data"
    }
   ],
   "source": [
    "#Graphical presentation\n",
    "pipelineOutput.groupby('Embarked').agg('mean')['Fare'].plot(kind='bar', color='steelblue', grid=True, rot=0);\n",
    "plt.title(\"Average ticket fare per boarding location\");"
   ]
  },
  {
   "cell_type": "code",
   "execution_count": 17,
   "metadata": {},
   "outputs": [
    {
     "data": {
      "text/html": [
       "<div>\n",
       "<style scoped>\n",
       "    .dataframe tbody tr th:only-of-type {\n",
       "        vertical-align: middle;\n",
       "    }\n",
       "\n",
       "    .dataframe tbody tr th {\n",
       "        vertical-align: top;\n",
       "    }\n",
       "\n",
       "    .dataframe thead th {\n",
       "        text-align: right;\n",
       "    }\n",
       "</style>\n",
       "<table border=\"1\" class=\"dataframe\">\n",
       "  <thead>\n",
       "    <tr style=\"text-align: right;\">\n",
       "      <th></th>\n",
       "      <th>Embarked</th>\n",
       "      <th>Sex</th>\n",
       "      <th>count</th>\n",
       "    </tr>\n",
       "  </thead>\n",
       "  <tbody>\n",
       "    <tr>\n",
       "      <th>0</th>\n",
       "      <td>S</td>\n",
       "      <td>male</td>\n",
       "      <td>441</td>\n",
       "    </tr>\n",
       "    <tr>\n",
       "      <th>1</th>\n",
       "      <td>S</td>\n",
       "      <td>female</td>\n",
       "      <td>203</td>\n",
       "    </tr>\n",
       "    <tr>\n",
       "      <th>2</th>\n",
       "      <td>C</td>\n",
       "      <td>male</td>\n",
       "      <td>95</td>\n",
       "    </tr>\n",
       "    <tr>\n",
       "      <th>3</th>\n",
       "      <td>C</td>\n",
       "      <td>female</td>\n",
       "      <td>73</td>\n",
       "    </tr>\n",
       "    <tr>\n",
       "      <th>4</th>\n",
       "      <td>Q</td>\n",
       "      <td>male</td>\n",
       "      <td>41</td>\n",
       "    </tr>\n",
       "    <tr>\n",
       "      <th>5</th>\n",
       "      <td>Q</td>\n",
       "      <td>female</td>\n",
       "      <td>36</td>\n",
       "    </tr>\n",
       "  </tbody>\n",
       "</table>\n",
       "</div>"
      ],
      "text/plain": [
       "  Embarked     Sex  count\n",
       "0        S    male    441\n",
       "1        S  female    203\n",
       "2        C    male     95\n",
       "3        C  female     73\n",
       "4        Q    male     41\n",
       "5        Q  female     36"
      ]
     },
     "execution_count": 17,
     "metadata": {},
     "output_type": "execute_result"
    }
   ],
   "source": [
    "df = pipelineOutput.groupby(['Embarked', 'Sex']).size().sort_values(ascending=False).reset_index(name='count')\n",
    "df"
   ]
  },
  {
   "cell_type": "code",
   "execution_count": 18,
   "metadata": {},
   "outputs": [
    {
     "data": {
      "image/png": "[encoded data removed]",
      "text/plain": [
       "<Figure size 502.5x432 with 1 Axes>"
      ]
     },
     "metadata": {},
     "output_type": "display_data"
    }
   ],
   "source": [
    "# Passengers From Each Port - Gender Spread\n",
    "g = sns.catplot(x=\"Embarked\", y=\"count\", hue=\"Sex\", data=df,\n",
    "                height=6, kind=\"bar\", palette=\"muted\")\n",
    "g.despine(left=True)\n",
    "g.set_ylabels(\"Counts\")\n",
    "plt.title(\"Passengers From Each Port - Gender Spread\", fontsize=12);\n",
    "plt.grid(True)"
   ]
  },
  {
   "cell_type": "code",
   "execution_count": 19,
   "metadata": {},
   "outputs": [
    {
     "data": {
      "text/html": [
       "<div>\n",
       "<style scoped>\n",
       "    .dataframe tbody tr th:only-of-type {\n",
       "        vertical-align: middle;\n",
       "    }\n",
       "\n",
       "    .dataframe tbody tr th {\n",
       "        vertical-align: top;\n",
       "    }\n",
       "\n",
       "    .dataframe thead th {\n",
       "        text-align: right;\n",
       "    }\n",
       "</style>\n",
       "<table border=\"1\" class=\"dataframe\">\n",
       "  <thead>\n",
       "    <tr style=\"text-align: right;\">\n",
       "      <th></th>\n",
       "      <th>Pclass</th>\n",
       "      <th>Sex</th>\n",
       "      <th>Age</th>\n",
       "      <th>SibSp</th>\n",
       "      <th>Parch</th>\n",
       "      <th>Fare</th>\n",
       "      <th>Embarked</th>\n",
       "      <th>Title</th>\n",
       "      <th>TicketNumber</th>\n",
       "      <th>Family</th>\n",
       "      <th>Deck</th>\n",
       "    </tr>\n",
       "  </thead>\n",
       "  <tbody>\n",
       "    <tr>\n",
       "      <th>61</th>\n",
       "      <td>1</td>\n",
       "      <td>female</td>\n",
       "      <td>38.0</td>\n",
       "      <td>0</td>\n",
       "      <td>0</td>\n",
       "      <td>80.0</td>\n",
       "      <td>NaN</td>\n",
       "      <td>Miss</td>\n",
       "      <td>113572</td>\n",
       "      <td>Single</td>\n",
       "      <td>B</td>\n",
       "    </tr>\n",
       "    <tr>\n",
       "      <th>829</th>\n",
       "      <td>1</td>\n",
       "      <td>female</td>\n",
       "      <td>62.0</td>\n",
       "      <td>0</td>\n",
       "      <td>0</td>\n",
       "      <td>80.0</td>\n",
       "      <td>NaN</td>\n",
       "      <td>Mrs</td>\n",
       "      <td>113572</td>\n",
       "      <td>Single</td>\n",
       "      <td>B</td>\n",
       "    </tr>\n",
       "  </tbody>\n",
       "</table>\n",
       "</div>"
      ],
      "text/plain": [
       "     Pclass     Sex   Age  SibSp  Parch  Fare Embarked Title TicketNumber  \\\n",
       "61        1  female  38.0      0      0  80.0      NaN  Miss       113572   \n",
       "829       1  female  62.0      0      0  80.0      NaN   Mrs       113572   \n",
       "\n",
       "     Family Deck  \n",
       "61   Single    B  \n",
       "829  Single    B  "
      ]
     },
     "execution_count": 19,
     "metadata": {},
     "output_type": "execute_result"
    }
   ],
   "source": [
    "#Null value rows for Embarked column\n",
    "pipelineOutput[pipelineOutput['Embarked'].isnull()]"
   ]
  },
  {
   "cell_type": "markdown",
   "metadata": {},
   "source": [
    "Average _Fare_ matches _Fare_ paid by passengers boarding from port _Cherbourg_. Looking at average price and spread of gender boarding from _Cherbourg_ port we can manually update missing _Embarked_ value to C. "
   ]
  },
  {
   "cell_type": "code",
   "execution_count": 20,
   "metadata": {},
   "outputs": [
    {
     "data": {
      "text/html": [
       "<div>\n",
       "<style scoped>\n",
       "    .dataframe tbody tr th:only-of-type {\n",
       "        vertical-align: middle;\n",
       "    }\n",
       "\n",
       "    .dataframe tbody tr th {\n",
       "        vertical-align: top;\n",
       "    }\n",
       "\n",
       "    .dataframe thead th {\n",
       "        text-align: right;\n",
       "    }\n",
       "</style>\n",
       "<table border=\"1\" class=\"dataframe\">\n",
       "  <thead>\n",
       "    <tr style=\"text-align: right;\">\n",
       "      <th></th>\n",
       "      <th>Pclass</th>\n",
       "      <th>Sex</th>\n",
       "      <th>Age</th>\n",
       "      <th>SibSp</th>\n",
       "      <th>Parch</th>\n",
       "      <th>Fare</th>\n",
       "      <th>Embarked</th>\n",
       "      <th>Title</th>\n",
       "      <th>TicketNumber</th>\n",
       "      <th>Family</th>\n",
       "      <th>Deck</th>\n",
       "    </tr>\n",
       "  </thead>\n",
       "  <tbody>\n",
       "    <tr>\n",
       "      <th>179</th>\n",
       "      <td>3</td>\n",
       "      <td>male</td>\n",
       "      <td>36.0</td>\n",
       "      <td>0</td>\n",
       "      <td>0</td>\n",
       "      <td>0.0</td>\n",
       "      <td>S</td>\n",
       "      <td>Mr</td>\n",
       "      <td>NaN</td>\n",
       "      <td>Single</td>\n",
       "      <td>NaN</td>\n",
       "    </tr>\n",
       "    <tr>\n",
       "      <th>271</th>\n",
       "      <td>3</td>\n",
       "      <td>male</td>\n",
       "      <td>25.0</td>\n",
       "      <td>0</td>\n",
       "      <td>0</td>\n",
       "      <td>0.0</td>\n",
       "      <td>S</td>\n",
       "      <td>Mr</td>\n",
       "      <td>NaN</td>\n",
       "      <td>Single</td>\n",
       "      <td>NaN</td>\n",
       "    </tr>\n",
       "    <tr>\n",
       "      <th>302</th>\n",
       "      <td>3</td>\n",
       "      <td>male</td>\n",
       "      <td>19.0</td>\n",
       "      <td>0</td>\n",
       "      <td>0</td>\n",
       "      <td>0.0</td>\n",
       "      <td>S</td>\n",
       "      <td>Mr</td>\n",
       "      <td>NaN</td>\n",
       "      <td>Single</td>\n",
       "      <td>NaN</td>\n",
       "    </tr>\n",
       "    <tr>\n",
       "      <th>597</th>\n",
       "      <td>3</td>\n",
       "      <td>male</td>\n",
       "      <td>49.0</td>\n",
       "      <td>0</td>\n",
       "      <td>0</td>\n",
       "      <td>0.0</td>\n",
       "      <td>S</td>\n",
       "      <td>Mr</td>\n",
       "      <td>NaN</td>\n",
       "      <td>Single</td>\n",
       "      <td>NaN</td>\n",
       "    </tr>\n",
       "  </tbody>\n",
       "</table>\n",
       "</div>"
      ],
      "text/plain": [
       "     Pclass   Sex   Age  SibSp  Parch  Fare Embarked Title TicketNumber  \\\n",
       "179       3  male  36.0      0      0   0.0        S    Mr          NaN   \n",
       "271       3  male  25.0      0      0   0.0        S    Mr          NaN   \n",
       "302       3  male  19.0      0      0   0.0        S    Mr          NaN   \n",
       "597       3  male  49.0      0      0   0.0        S    Mr          NaN   \n",
       "\n",
       "     Family Deck  \n",
       "179  Single  NaN  \n",
       "271  Single  NaN  \n",
       "302  Single  NaN  \n",
       "597  Single  NaN  "
      ]
     },
     "execution_count": 20,
     "metadata": {},
     "output_type": "execute_result"
    }
   ],
   "source": [
    "#Null value rows for TicketNumber column\n",
    "pipelineOutput[pipelineOutput['TicketNumber'].isnull()]"
   ]
  },
  {
   "cell_type": "markdown",
   "metadata": {},
   "source": [
    "Missing value for the _TicketNumber_ could be updated by median value because it almost random number given assigned to a passenger."
   ]
  },
  {
   "cell_type": "code",
   "execution_count": 21,
   "metadata": {},
   "outputs": [
    {
     "data": {
      "text/plain": [
       "Deck\n",
       "A     39.623887\n",
       "B    113.505764\n",
       "C    100.151341\n",
       "D     57.244576\n",
       "E     46.026694\n",
       "F     18.696792\n",
       "G     13.581250\n",
       "T     35.500000\n",
       "Name: Fare, dtype: float64"
      ]
     },
     "execution_count": 21,
     "metadata": {},
     "output_type": "execute_result"
    }
   ],
   "source": [
    "pipelineOutput['Fare'].groupby(pipelineOutput['Deck']).mean()"
   ]
  },
  {
   "cell_type": "code",
   "execution_count": 22,
   "metadata": {},
   "outputs": [
    {
     "data": {
      "text/html": [
       "<div>\n",
       "<style scoped>\n",
       "    .dataframe tbody tr th:only-of-type {\n",
       "        vertical-align: middle;\n",
       "    }\n",
       "\n",
       "    .dataframe tbody tr th {\n",
       "        vertical-align: top;\n",
       "    }\n",
       "\n",
       "    .dataframe thead th {\n",
       "        text-align: right;\n",
       "    }\n",
       "</style>\n",
       "<table border=\"1\" class=\"dataframe\">\n",
       "  <thead>\n",
       "    <tr style=\"text-align: right;\">\n",
       "      <th></th>\n",
       "      <th>Pclass</th>\n",
       "      <th>Sex</th>\n",
       "      <th>Age</th>\n",
       "      <th>SibSp</th>\n",
       "      <th>Parch</th>\n",
       "      <th>Fare</th>\n",
       "      <th>Embarked</th>\n",
       "      <th>Title</th>\n",
       "      <th>TicketNumber</th>\n",
       "      <th>Family</th>\n",
       "      <th>Deck</th>\n",
       "    </tr>\n",
       "  </thead>\n",
       "  <tbody>\n",
       "    <tr>\n",
       "      <th>0</th>\n",
       "      <td>3</td>\n",
       "      <td>male</td>\n",
       "      <td>22.0</td>\n",
       "      <td>1</td>\n",
       "      <td>0</td>\n",
       "      <td>7.2500</td>\n",
       "      <td>S</td>\n",
       "      <td>Mr</td>\n",
       "      <td>21171</td>\n",
       "      <td>Single</td>\n",
       "      <td>NaN</td>\n",
       "    </tr>\n",
       "    <tr>\n",
       "      <th>2</th>\n",
       "      <td>3</td>\n",
       "      <td>female</td>\n",
       "      <td>26.0</td>\n",
       "      <td>0</td>\n",
       "      <td>0</td>\n",
       "      <td>7.9250</td>\n",
       "      <td>S</td>\n",
       "      <td>Miss</td>\n",
       "      <td>3101282</td>\n",
       "      <td>Single</td>\n",
       "      <td>NaN</td>\n",
       "    </tr>\n",
       "    <tr>\n",
       "      <th>4</th>\n",
       "      <td>3</td>\n",
       "      <td>male</td>\n",
       "      <td>35.0</td>\n",
       "      <td>0</td>\n",
       "      <td>0</td>\n",
       "      <td>8.0500</td>\n",
       "      <td>S</td>\n",
       "      <td>Mr</td>\n",
       "      <td>373450</td>\n",
       "      <td>Single</td>\n",
       "      <td>NaN</td>\n",
       "    </tr>\n",
       "    <tr>\n",
       "      <th>5</th>\n",
       "      <td>3</td>\n",
       "      <td>male</td>\n",
       "      <td>NaN</td>\n",
       "      <td>0</td>\n",
       "      <td>0</td>\n",
       "      <td>8.4583</td>\n",
       "      <td>Q</td>\n",
       "      <td>Mr</td>\n",
       "      <td>330877</td>\n",
       "      <td>Single</td>\n",
       "      <td>NaN</td>\n",
       "    </tr>\n",
       "    <tr>\n",
       "      <th>7</th>\n",
       "      <td>3</td>\n",
       "      <td>male</td>\n",
       "      <td>2.0</td>\n",
       "      <td>3</td>\n",
       "      <td>1</td>\n",
       "      <td>21.0750</td>\n",
       "      <td>S</td>\n",
       "      <td>Master</td>\n",
       "      <td>349909</td>\n",
       "      <td>Small</td>\n",
       "      <td>NaN</td>\n",
       "    </tr>\n",
       "    <tr>\n",
       "      <th>8</th>\n",
       "      <td>3</td>\n",
       "      <td>female</td>\n",
       "      <td>27.0</td>\n",
       "      <td>0</td>\n",
       "      <td>2</td>\n",
       "      <td>11.1333</td>\n",
       "      <td>S</td>\n",
       "      <td>Mrs</td>\n",
       "      <td>347742</td>\n",
       "      <td>Small</td>\n",
       "      <td>NaN</td>\n",
       "    </tr>\n",
       "    <tr>\n",
       "      <th>9</th>\n",
       "      <td>2</td>\n",
       "      <td>female</td>\n",
       "      <td>14.0</td>\n",
       "      <td>1</td>\n",
       "      <td>0</td>\n",
       "      <td>30.0708</td>\n",
       "      <td>C</td>\n",
       "      <td>Mrs</td>\n",
       "      <td>237736</td>\n",
       "      <td>Single</td>\n",
       "      <td>NaN</td>\n",
       "    </tr>\n",
       "    <tr>\n",
       "      <th>12</th>\n",
       "      <td>3</td>\n",
       "      <td>male</td>\n",
       "      <td>20.0</td>\n",
       "      <td>0</td>\n",
       "      <td>0</td>\n",
       "      <td>8.0500</td>\n",
       "      <td>S</td>\n",
       "      <td>Mr</td>\n",
       "      <td>2151</td>\n",
       "      <td>Single</td>\n",
       "      <td>NaN</td>\n",
       "    </tr>\n",
       "    <tr>\n",
       "      <th>13</th>\n",
       "      <td>3</td>\n",
       "      <td>male</td>\n",
       "      <td>39.0</td>\n",
       "      <td>1</td>\n",
       "      <td>5</td>\n",
       "      <td>31.2750</td>\n",
       "      <td>S</td>\n",
       "      <td>Mr</td>\n",
       "      <td>347082</td>\n",
       "      <td>Large</td>\n",
       "      <td>NaN</td>\n",
       "    </tr>\n",
       "    <tr>\n",
       "      <th>14</th>\n",
       "      <td>3</td>\n",
       "      <td>female</td>\n",
       "      <td>14.0</td>\n",
       "      <td>0</td>\n",
       "      <td>0</td>\n",
       "      <td>7.8542</td>\n",
       "      <td>S</td>\n",
       "      <td>Miss</td>\n",
       "      <td>350406</td>\n",
       "      <td>Single</td>\n",
       "      <td>NaN</td>\n",
       "    </tr>\n",
       "  </tbody>\n",
       "</table>\n",
       "</div>"
      ],
      "text/plain": [
       "    Pclass     Sex   Age  SibSp  Parch     Fare Embarked   Title TicketNumber  \\\n",
       "0        3    male  22.0      1      0   7.2500        S      Mr        21171   \n",
       "2        3  female  26.0      0      0   7.9250        S    Miss      3101282   \n",
       "4        3    male  35.0      0      0   8.0500        S      Mr       373450   \n",
       "5        3    male   NaN      0      0   8.4583        Q      Mr       330877   \n",
       "7        3    male   2.0      3      1  21.0750        S  Master       349909   \n",
       "8        3  female  27.0      0      2  11.1333        S     Mrs       347742   \n",
       "9        2  female  14.0      1      0  30.0708        C     Mrs       237736   \n",
       "12       3    male  20.0      0      0   8.0500        S      Mr         2151   \n",
       "13       3    male  39.0      1      5  31.2750        S      Mr       347082   \n",
       "14       3  female  14.0      0      0   7.8542        S    Miss       350406   \n",
       "\n",
       "    Family Deck  \n",
       "0   Single  NaN  \n",
       "2   Single  NaN  \n",
       "4   Single  NaN  \n",
       "5   Single  NaN  \n",
       "7    Small  NaN  \n",
       "8    Small  NaN  \n",
       "9   Single  NaN  \n",
       "12  Single  NaN  \n",
       "13   Large  NaN  \n",
       "14  Single  NaN  "
      ]
     },
     "execution_count": 22,
     "metadata": {},
     "output_type": "execute_result"
    }
   ],
   "source": [
    "#Null value rows for Deck column\n",
    "pipelineOutput[pipelineOutput['Deck'].isnull()].head(10)"
   ]
  },
  {
   "cell_type": "code",
   "execution_count": 23,
   "metadata": {},
   "outputs": [
    {
     "data": {
      "text/html": [
       "<div>\n",
       "<style scoped>\n",
       "    .dataframe tbody tr th:only-of-type {\n",
       "        vertical-align: middle;\n",
       "    }\n",
       "\n",
       "    .dataframe tbody tr th {\n",
       "        vertical-align: top;\n",
       "    }\n",
       "\n",
       "    .dataframe thead th {\n",
       "        text-align: right;\n",
       "    }\n",
       "</style>\n",
       "<table border=\"1\" class=\"dataframe\">\n",
       "  <thead>\n",
       "    <tr style=\"text-align: right;\">\n",
       "      <th></th>\n",
       "      <th>Pclass</th>\n",
       "      <th>Sex</th>\n",
       "      <th>Age</th>\n",
       "      <th>SibSp</th>\n",
       "      <th>Parch</th>\n",
       "      <th>Fare</th>\n",
       "      <th>Embarked</th>\n",
       "      <th>Title</th>\n",
       "      <th>TicketNumber</th>\n",
       "      <th>Family</th>\n",
       "      <th>Deck</th>\n",
       "    </tr>\n",
       "  </thead>\n",
       "  <tbody>\n",
       "    <tr>\n",
       "      <th>23</th>\n",
       "      <td>1</td>\n",
       "      <td>male</td>\n",
       "      <td>28.0</td>\n",
       "      <td>0</td>\n",
       "      <td>0</td>\n",
       "      <td>35.5000</td>\n",
       "      <td>S</td>\n",
       "      <td>Mr</td>\n",
       "      <td>113788</td>\n",
       "      <td>Single</td>\n",
       "      <td>A</td>\n",
       "    </tr>\n",
       "    <tr>\n",
       "      <th>96</th>\n",
       "      <td>1</td>\n",
       "      <td>male</td>\n",
       "      <td>71.0</td>\n",
       "      <td>0</td>\n",
       "      <td>0</td>\n",
       "      <td>34.6542</td>\n",
       "      <td>C</td>\n",
       "      <td>Mr</td>\n",
       "      <td>17754</td>\n",
       "      <td>Single</td>\n",
       "      <td>A</td>\n",
       "    </tr>\n",
       "    <tr>\n",
       "      <th>174</th>\n",
       "      <td>1</td>\n",
       "      <td>male</td>\n",
       "      <td>56.0</td>\n",
       "      <td>0</td>\n",
       "      <td>0</td>\n",
       "      <td>30.6958</td>\n",
       "      <td>C</td>\n",
       "      <td>Mr</td>\n",
       "      <td>17764</td>\n",
       "      <td>Single</td>\n",
       "      <td>A</td>\n",
       "    </tr>\n",
       "    <tr>\n",
       "      <th>185</th>\n",
       "      <td>1</td>\n",
       "      <td>male</td>\n",
       "      <td>NaN</td>\n",
       "      <td>0</td>\n",
       "      <td>0</td>\n",
       "      <td>50.0000</td>\n",
       "      <td>S</td>\n",
       "      <td>Mr</td>\n",
       "      <td>113767</td>\n",
       "      <td>Single</td>\n",
       "      <td>A</td>\n",
       "    </tr>\n",
       "    <tr>\n",
       "      <th>209</th>\n",
       "      <td>1</td>\n",
       "      <td>male</td>\n",
       "      <td>40.0</td>\n",
       "      <td>0</td>\n",
       "      <td>0</td>\n",
       "      <td>31.0000</td>\n",
       "      <td>C</td>\n",
       "      <td>Mr</td>\n",
       "      <td>112277</td>\n",
       "      <td>Single</td>\n",
       "      <td>A</td>\n",
       "    </tr>\n",
       "    <tr>\n",
       "      <th>284</th>\n",
       "      <td>1</td>\n",
       "      <td>male</td>\n",
       "      <td>NaN</td>\n",
       "      <td>0</td>\n",
       "      <td>0</td>\n",
       "      <td>26.0000</td>\n",
       "      <td>S</td>\n",
       "      <td>Mr</td>\n",
       "      <td>113056</td>\n",
       "      <td>Single</td>\n",
       "      <td>A</td>\n",
       "    </tr>\n",
       "    <tr>\n",
       "      <th>445</th>\n",
       "      <td>1</td>\n",
       "      <td>male</td>\n",
       "      <td>4.0</td>\n",
       "      <td>0</td>\n",
       "      <td>2</td>\n",
       "      <td>81.8583</td>\n",
       "      <td>S</td>\n",
       "      <td>Master</td>\n",
       "      <td>33638</td>\n",
       "      <td>Small</td>\n",
       "      <td>A</td>\n",
       "    </tr>\n",
       "    <tr>\n",
       "      <th>475</th>\n",
       "      <td>1</td>\n",
       "      <td>male</td>\n",
       "      <td>NaN</td>\n",
       "      <td>0</td>\n",
       "      <td>0</td>\n",
       "      <td>52.0000</td>\n",
       "      <td>S</td>\n",
       "      <td>Mr</td>\n",
       "      <td>110465</td>\n",
       "      <td>Single</td>\n",
       "      <td>A</td>\n",
       "    </tr>\n",
       "    <tr>\n",
       "      <th>556</th>\n",
       "      <td>1</td>\n",
       "      <td>female</td>\n",
       "      <td>48.0</td>\n",
       "      <td>1</td>\n",
       "      <td>0</td>\n",
       "      <td>39.6000</td>\n",
       "      <td>C</td>\n",
       "      <td>Royalty</td>\n",
       "      <td>11755</td>\n",
       "      <td>Single</td>\n",
       "      <td>A</td>\n",
       "    </tr>\n",
       "    <tr>\n",
       "      <th>583</th>\n",
       "      <td>1</td>\n",
       "      <td>male</td>\n",
       "      <td>36.0</td>\n",
       "      <td>0</td>\n",
       "      <td>0</td>\n",
       "      <td>40.1250</td>\n",
       "      <td>C</td>\n",
       "      <td>Mr</td>\n",
       "      <td>13049</td>\n",
       "      <td>Single</td>\n",
       "      <td>A</td>\n",
       "    </tr>\n",
       "  </tbody>\n",
       "</table>\n",
       "</div>"
      ],
      "text/plain": [
       "     Pclass     Sex   Age  SibSp  Parch     Fare Embarked    Title  \\\n",
       "23        1    male  28.0      0      0  35.5000        S       Mr   \n",
       "96        1    male  71.0      0      0  34.6542        C       Mr   \n",
       "174       1    male  56.0      0      0  30.6958        C       Mr   \n",
       "185       1    male   NaN      0      0  50.0000        S       Mr   \n",
       "209       1    male  40.0      0      0  31.0000        C       Mr   \n",
       "284       1    male   NaN      0      0  26.0000        S       Mr   \n",
       "445       1    male   4.0      0      2  81.8583        S   Master   \n",
       "475       1    male   NaN      0      0  52.0000        S       Mr   \n",
       "556       1  female  48.0      1      0  39.6000        C  Royalty   \n",
       "583       1    male  36.0      0      0  40.1250        C       Mr   \n",
       "\n",
       "    TicketNumber  Family Deck  \n",
       "23        113788  Single    A  \n",
       "96         17754  Single    A  \n",
       "174        17764  Single    A  \n",
       "185       113767  Single    A  \n",
       "209       112277  Single    A  \n",
       "284       113056  Single    A  \n",
       "445        33638   Small    A  \n",
       "475       110465  Single    A  \n",
       "556        11755  Single    A  \n",
       "583        13049  Single    A  "
      ]
     },
     "execution_count": 23,
     "metadata": {},
     "output_type": "execute_result"
    }
   ],
   "source": [
    "#Null value rows for Deck column\n",
    "pipelineOutput[pipelineOutput['Deck']=='A'].head(10)"
   ]
  },
  {
   "cell_type": "code",
   "execution_count": 24,
   "metadata": {},
   "outputs": [
    {
     "data": {
      "text/html": [
       "<div>\n",
       "<style scoped>\n",
       "    .dataframe tbody tr th:only-of-type {\n",
       "        vertical-align: middle;\n",
       "    }\n",
       "\n",
       "    .dataframe tbody tr th {\n",
       "        vertical-align: top;\n",
       "    }\n",
       "\n",
       "    .dataframe thead th {\n",
       "        text-align: right;\n",
       "    }\n",
       "</style>\n",
       "<table border=\"1\" class=\"dataframe\">\n",
       "  <thead>\n",
       "    <tr style=\"text-align: right;\">\n",
       "      <th></th>\n",
       "      <th>Pclass</th>\n",
       "      <th>Sex</th>\n",
       "      <th>Age</th>\n",
       "      <th>SibSp</th>\n",
       "      <th>Parch</th>\n",
       "      <th>Fare</th>\n",
       "      <th>Embarked</th>\n",
       "      <th>Title</th>\n",
       "      <th>TicketNumber</th>\n",
       "      <th>Family</th>\n",
       "      <th>Deck</th>\n",
       "    </tr>\n",
       "  </thead>\n",
       "  <tbody>\n",
       "    <tr>\n",
       "      <th>31</th>\n",
       "      <td>1</td>\n",
       "      <td>female</td>\n",
       "      <td>NaN</td>\n",
       "      <td>1</td>\n",
       "      <td>0</td>\n",
       "      <td>146.5208</td>\n",
       "      <td>C</td>\n",
       "      <td>Mrs</td>\n",
       "      <td>17569</td>\n",
       "      <td>Single</td>\n",
       "      <td>B</td>\n",
       "    </tr>\n",
       "    <tr>\n",
       "      <th>54</th>\n",
       "      <td>1</td>\n",
       "      <td>male</td>\n",
       "      <td>65.0</td>\n",
       "      <td>0</td>\n",
       "      <td>1</td>\n",
       "      <td>61.9792</td>\n",
       "      <td>C</td>\n",
       "      <td>Mr</td>\n",
       "      <td>113509</td>\n",
       "      <td>Single</td>\n",
       "      <td>B</td>\n",
       "    </tr>\n",
       "    <tr>\n",
       "      <th>61</th>\n",
       "      <td>1</td>\n",
       "      <td>female</td>\n",
       "      <td>38.0</td>\n",
       "      <td>0</td>\n",
       "      <td>0</td>\n",
       "      <td>80.0000</td>\n",
       "      <td>NaN</td>\n",
       "      <td>Miss</td>\n",
       "      <td>113572</td>\n",
       "      <td>Single</td>\n",
       "      <td>B</td>\n",
       "    </tr>\n",
       "    <tr>\n",
       "      <th>118</th>\n",
       "      <td>1</td>\n",
       "      <td>male</td>\n",
       "      <td>24.0</td>\n",
       "      <td>0</td>\n",
       "      <td>1</td>\n",
       "      <td>247.5208</td>\n",
       "      <td>C</td>\n",
       "      <td>Mr</td>\n",
       "      <td>17558</td>\n",
       "      <td>Single</td>\n",
       "      <td>B</td>\n",
       "    </tr>\n",
       "    <tr>\n",
       "      <th>139</th>\n",
       "      <td>1</td>\n",
       "      <td>male</td>\n",
       "      <td>24.0</td>\n",
       "      <td>0</td>\n",
       "      <td>0</td>\n",
       "      <td>79.2000</td>\n",
       "      <td>C</td>\n",
       "      <td>Mr</td>\n",
       "      <td>17593</td>\n",
       "      <td>Single</td>\n",
       "      <td>B</td>\n",
       "    </tr>\n",
       "    <tr>\n",
       "      <th>170</th>\n",
       "      <td>1</td>\n",
       "      <td>male</td>\n",
       "      <td>61.0</td>\n",
       "      <td>0</td>\n",
       "      <td>0</td>\n",
       "      <td>33.5000</td>\n",
       "      <td>S</td>\n",
       "      <td>Mr</td>\n",
       "      <td>111240</td>\n",
       "      <td>Single</td>\n",
       "      <td>B</td>\n",
       "    </tr>\n",
       "    <tr>\n",
       "      <th>194</th>\n",
       "      <td>1</td>\n",
       "      <td>female</td>\n",
       "      <td>44.0</td>\n",
       "      <td>0</td>\n",
       "      <td>0</td>\n",
       "      <td>27.7208</td>\n",
       "      <td>C</td>\n",
       "      <td>Mrs</td>\n",
       "      <td>17610</td>\n",
       "      <td>Single</td>\n",
       "      <td>B</td>\n",
       "    </tr>\n",
       "    <tr>\n",
       "      <th>195</th>\n",
       "      <td>1</td>\n",
       "      <td>female</td>\n",
       "      <td>58.0</td>\n",
       "      <td>0</td>\n",
       "      <td>0</td>\n",
       "      <td>146.5208</td>\n",
       "      <td>C</td>\n",
       "      <td>Miss</td>\n",
       "      <td>17569</td>\n",
       "      <td>Single</td>\n",
       "      <td>B</td>\n",
       "    </tr>\n",
       "    <tr>\n",
       "      <th>257</th>\n",
       "      <td>1</td>\n",
       "      <td>female</td>\n",
       "      <td>30.0</td>\n",
       "      <td>0</td>\n",
       "      <td>0</td>\n",
       "      <td>86.5000</td>\n",
       "      <td>S</td>\n",
       "      <td>Miss</td>\n",
       "      <td>110152</td>\n",
       "      <td>Single</td>\n",
       "      <td>B</td>\n",
       "    </tr>\n",
       "    <tr>\n",
       "      <th>263</th>\n",
       "      <td>1</td>\n",
       "      <td>male</td>\n",
       "      <td>40.0</td>\n",
       "      <td>0</td>\n",
       "      <td>0</td>\n",
       "      <td>0.0000</td>\n",
       "      <td>S</td>\n",
       "      <td>Mr</td>\n",
       "      <td>112059</td>\n",
       "      <td>Single</td>\n",
       "      <td>B</td>\n",
       "    </tr>\n",
       "  </tbody>\n",
       "</table>\n",
       "</div>"
      ],
      "text/plain": [
       "     Pclass     Sex   Age  SibSp  Parch      Fare Embarked Title TicketNumber  \\\n",
       "31        1  female   NaN      1      0  146.5208        C   Mrs        17569   \n",
       "54        1    male  65.0      0      1   61.9792        C    Mr       113509   \n",
       "61        1  female  38.0      0      0   80.0000      NaN  Miss       113572   \n",
       "118       1    male  24.0      0      1  247.5208        C    Mr        17558   \n",
       "139       1    male  24.0      0      0   79.2000        C    Mr        17593   \n",
       "170       1    male  61.0      0      0   33.5000        S    Mr       111240   \n",
       "194       1  female  44.0      0      0   27.7208        C   Mrs        17610   \n",
       "195       1  female  58.0      0      0  146.5208        C  Miss        17569   \n",
       "257       1  female  30.0      0      0   86.5000        S  Miss       110152   \n",
       "263       1    male  40.0      0      0    0.0000        S    Mr       112059   \n",
       "\n",
       "     Family Deck  \n",
       "31   Single    B  \n",
       "54   Single    B  \n",
       "61   Single    B  \n",
       "118  Single    B  \n",
       "139  Single    B  \n",
       "170  Single    B  \n",
       "194  Single    B  \n",
       "195  Single    B  \n",
       "257  Single    B  \n",
       "263  Single    B  "
      ]
     },
     "execution_count": 24,
     "metadata": {},
     "output_type": "execute_result"
    }
   ],
   "source": [
    "#Null value rows for Deck column\n",
    "pipelineOutput[pipelineOutput['Deck']=='B'].head(10)"
   ]
  },
  {
   "cell_type": "markdown",
   "metadata": {},
   "source": [
    "Since ticket _Fare_ increase or decrease is not consistent among the deck's and there are some cases in _Deck - B_, single passenger paid a very high price. It is safe to conclude that missing _Deck_ values can be classified into there own group. Let's replace missing _Deck_ with value 'U'.\n",
    "\n",
    "Finally, variable _Age_ has 177 observations with missing values. I will using _RandomForestRegressor_ to find missing values. To run random forest regression on the data, we need to convert variables to numeric or categorical variables. \n",
    "\n",
    "Following _pipeline_ function imputes all missing values."
   ]
  },
  {
   "cell_type": "code",
   "execution_count": 25,
   "metadata": {},
   "outputs": [
    {
     "name": "stdout",
     "output_type": "stream",
     "text": [
      "(891, 11)\n"
     ]
    },
    {
     "data": {
      "text/html": [
       "<div>\n",
       "<style scoped>\n",
       "    .dataframe tbody tr th:only-of-type {\n",
       "        vertical-align: middle;\n",
       "    }\n",
       "\n",
       "    .dataframe tbody tr th {\n",
       "        vertical-align: top;\n",
       "    }\n",
       "\n",
       "    .dataframe thead th {\n",
       "        text-align: right;\n",
       "    }\n",
       "</style>\n",
       "<table border=\"1\" class=\"dataframe\">\n",
       "  <thead>\n",
       "    <tr style=\"text-align: right;\">\n",
       "      <th></th>\n",
       "      <th>Pclass</th>\n",
       "      <th>Sex</th>\n",
       "      <th>Age</th>\n",
       "      <th>SibSp</th>\n",
       "      <th>Parch</th>\n",
       "      <th>Fare</th>\n",
       "      <th>Embarked</th>\n",
       "      <th>Title</th>\n",
       "      <th>TicketNumber</th>\n",
       "      <th>Family</th>\n",
       "      <th>Deck</th>\n",
       "    </tr>\n",
       "  </thead>\n",
       "  <tbody>\n",
       "    <tr>\n",
       "      <th>0</th>\n",
       "      <td>3</td>\n",
       "      <td>1</td>\n",
       "      <td>22.0</td>\n",
       "      <td>1</td>\n",
       "      <td>0</td>\n",
       "      <td>7.2500</td>\n",
       "      <td>2</td>\n",
       "      <td>2</td>\n",
       "      <td>21171</td>\n",
       "      <td>0</td>\n",
       "      <td>8</td>\n",
       "    </tr>\n",
       "    <tr>\n",
       "      <th>1</th>\n",
       "      <td>1</td>\n",
       "      <td>0</td>\n",
       "      <td>38.0</td>\n",
       "      <td>1</td>\n",
       "      <td>0</td>\n",
       "      <td>71.2833</td>\n",
       "      <td>0</td>\n",
       "      <td>0</td>\n",
       "      <td>17599</td>\n",
       "      <td>0</td>\n",
       "      <td>2</td>\n",
       "    </tr>\n",
       "    <tr>\n",
       "      <th>2</th>\n",
       "      <td>3</td>\n",
       "      <td>0</td>\n",
       "      <td>26.0</td>\n",
       "      <td>0</td>\n",
       "      <td>0</td>\n",
       "      <td>7.9250</td>\n",
       "      <td>2</td>\n",
       "      <td>1</td>\n",
       "      <td>3101282</td>\n",
       "      <td>0</td>\n",
       "      <td>8</td>\n",
       "    </tr>\n",
       "    <tr>\n",
       "      <th>3</th>\n",
       "      <td>1</td>\n",
       "      <td>0</td>\n",
       "      <td>35.0</td>\n",
       "      <td>1</td>\n",
       "      <td>0</td>\n",
       "      <td>53.1000</td>\n",
       "      <td>2</td>\n",
       "      <td>0</td>\n",
       "      <td>113803</td>\n",
       "      <td>0</td>\n",
       "      <td>2</td>\n",
       "    </tr>\n",
       "    <tr>\n",
       "      <th>4</th>\n",
       "      <td>3</td>\n",
       "      <td>1</td>\n",
       "      <td>35.0</td>\n",
       "      <td>0</td>\n",
       "      <td>0</td>\n",
       "      <td>8.0500</td>\n",
       "      <td>2</td>\n",
       "      <td>2</td>\n",
       "      <td>373450</td>\n",
       "      <td>0</td>\n",
       "      <td>8</td>\n",
       "    </tr>\n",
       "  </tbody>\n",
       "</table>\n",
       "</div>"
      ],
      "text/plain": [
       "  Pclass Sex   Age  SibSp  Parch     Fare Embarked Title TicketNumber Family  \\\n",
       "0      3   1  22.0      1      0   7.2500        2     2        21171      0   \n",
       "1      1   0  38.0      1      0  71.2833        0     0        17599      0   \n",
       "2      3   0  26.0      0      0   7.9250        2     1      3101282      0   \n",
       "3      1   0  35.0      1      0  53.1000        2     0       113803      0   \n",
       "4      3   1  35.0      0      0   8.0500        2     2       373450      0   \n",
       "\n",
       "  Deck  \n",
       "0    8  \n",
       "1    2  \n",
       "2    8  \n",
       "3    2  \n",
       "4    8  "
      ]
     },
     "execution_count": 25,
     "metadata": {},
     "output_type": "execute_result"
    }
   ],
   "source": [
    "#Impute the columns and convert them into categorical values\n",
    "imp_cols = ['Title', 'Fare', 'Deck', 'TicketNumber','Embarked','Age']\n",
    "iPipeLine = Pipeline([\n",
    "    \n",
    "    ('e_cols', ePipeLine),\n",
    "    ('i_cols', imputeColumns( imp_cols )),\n",
    "])\n",
    "\n",
    "#Display output\n",
    "pipelineOutput = iPipeLine.fit_transform(X_train)\n",
    "print(pipelineOutput.shape)\n",
    "pipelineOutput.head()"
   ]
  },
  {
   "cell_type": "code",
   "execution_count": 26,
   "metadata": {},
   "outputs": [
    {
     "name": "stdout",
     "output_type": "stream",
     "text": [
      "Variables with missing values\n"
     ]
    },
    {
     "data": {
      "text/plain": [
       "Pclass          0\n",
       "Sex             0\n",
       "Age             0\n",
       "SibSp           0\n",
       "Parch           0\n",
       "Fare            0\n",
       "Embarked        0\n",
       "Title           0\n",
       "TicketNumber    0\n",
       "Family          0\n",
       "Deck            0\n",
       "dtype: int64"
      ]
     },
     "execution_count": 26,
     "metadata": {},
     "output_type": "execute_result"
    }
   ],
   "source": [
    "print(\"Variables with missing values\")\n",
    "pipelineOutput.isnull().sum()"
   ]
  },
  {
   "cell_type": "markdown",
   "metadata": {},
   "source": [
    "#### Data Spread\n",
    "\n",
    "None of the variables have missing values. This completes imputing missing values. Now let's see data distribution is normal or is it skewed. To find data spread we will be using boxplots and histograms. "
   ]
  },
  {
   "cell_type": "code",
   "execution_count": 27,
   "metadata": {},
   "outputs": [
    {
     "data": {
      "image/png": "[encoded data removed]",
      "text/plain": [
       "<Figure size 1080x864 with 12 Axes>"
      ]
     },
     "metadata": {},
     "output_type": "display_data"
    }
   ],
   "source": [
    "#Convert variables into into to check spread accross categories\n",
    "#Histograms will give information about how data is spread\n",
    "\n",
    "pipelineOutput['Sex'] = pipelineOutput['Sex'].astype('int')\n",
    "pipelineOutput['Family'] = pipelineOutput['Family'].astype('int')\n",
    "pipelineOutput['Title'] = pipelineOutput['Title'].astype('int')\n",
    "pipelineOutput['Embarked'] = pipelineOutput['Embarked'].astype('int')\n",
    "pipelineOutput['Deck'] = pipelineOutput['Deck'].astype('int')\n",
    "pipelineOutput['Pclass'] = pipelineOutput['Pclass'].astype('int')\n",
    "\n",
    "frames = [pipelineOutput, train['Survived']]\n",
    "#Combine two datasets\n",
    "df = pd.concat([pipelineOutput, train['Survived']], axis=1, join_axes=[pipelineOutput.index])\n",
    "\n",
    "\n",
    "df['Survived'] = df['Survived'].astype('int')\n",
    "#Check data spread\n",
    "df.hist(bins=10,figsize=(15,12), grid=True);"
   ]
  },
  {
   "cell_type": "markdown",
   "metadata": {},
   "source": [
    "#### Histogram Inference\n",
    "\n",
    "- _Age_ the histogram shows data are normally distributed, with a single peak.\n",
    "- _Deck_ is left-skewed, as there are more observations in category 8, this is imputed category.\n",
    "- _Embarked_, the histogram shows that more passengers boarded from port Southampton, compared to other ports.\n",
    "- _Family_, the histogram indicates that more passengers were traveling alone.\n",
    "- _Fare_, the histogram shows that more than three fourth of the passengers paid fare less than \\$100.00, few outliers paid fare higher than \\$500.00. This makes the graph right-skewed.\n",
    "- _Pclass_, histogram suggests more passengers were traveling in third class.\n",
    "- _Sex_, graph suggests there were more male passengers on board.\n",
    "- _Survived_, suggests that more female passengers survived the tragic Titanic accident.\n",
    "\n",
    "Following graphs show how each variable is distributed against _Survived_ variable."
   ]
  },
  {
   "cell_type": "code",
   "execution_count": 28,
   "metadata": {},
   "outputs": [
    {
     "data": {
      "image/png": "[encoded data removed]",
      "text/plain": [
       "<Figure size 864x720 with 1 Axes>"
      ]
     },
     "metadata": {},
     "output_type": "display_data"
    }
   ],
   "source": [
    "#Convert variables into categories\n",
    "df['Sex'] = df['Sex'].astype('category')\n",
    "df['Family'] = df['Family'].astype('category')\n",
    "df['Title'] = df['Title'].astype('category')\n",
    "df['Embarked'] = df['Embarked'].astype('category')\n",
    "df['Deck'] = df['Deck'].astype('category')\n",
    "df['Survived'] = df['Survived'].astype('category')\n",
    "df['Pclass'] = df['Pclass'].astype('category')\n",
    "\n",
    "df['Survived'] = df['Survived'].map({0:'No', 1:'Yes'})\n",
    "\n",
    "#Spread between age and survival\n",
    "fig, ax = plt.subplots(figsize=(12,10))\n",
    "ax = sns.boxplot(x=\"Survived\", y=\"Age\", data=df)\n",
    "ax = sns.stripplot(x=\"Survived\", y=\"Age\", data=df, jitter=True, edgecolor=\"gray\")\n",
    "ax.set_title(\"Survival by Age\", fontsize=12);\n",
    "plt.grid(True)"
   ]
  },
  {
   "cell_type": "markdown",
   "metadata": {},
   "source": [
    "Median age of passenger that survived Vs. not is same, little less than 30 years. There are is an outlier in survial category where passenger age is approximately 80 years, yet surived. However, data spread accross age and survival is normally distributed."
   ]
  },
  {
   "cell_type": "code",
   "execution_count": 29,
   "metadata": {},
   "outputs": [
    {
     "data": {
      "image/png": "[encoded data removed]",
      "text/plain": [
       "<Figure size 485.359x432 with 1 Axes>"
      ]
     },
     "metadata": {},
     "output_type": "display_data"
    }
   ],
   "source": [
    "#Spread between passenger class and survival\n",
    "df_ps = df.groupby(['Pclass', 'Survived']).size().sort_values(ascending=False).reset_index(name='count')\n",
    "\n",
    "g = sns.catplot(x=\"Pclass\", y=\"count\", hue=\"Survived\", data=df_ps,\n",
    "                height=6, kind=\"bar\", palette=\"muted\")\n",
    "g.despine(left=True)\n",
    "g.set_ylabels(\"Counts\")\n",
    "plt.title(\"Passengers Class Vs. Survival Counts\", fontsize=12)\n",
    "plt.grid(True)"
   ]
  },
  {
   "cell_type": "code",
   "execution_count": 30,
   "metadata": {},
   "outputs": [
    {
     "data": {
      "text/html": [
       "<div>\n",
       "<style scoped>\n",
       "    .dataframe tbody tr th:only-of-type {\n",
       "        vertical-align: middle;\n",
       "    }\n",
       "\n",
       "    .dataframe tbody tr th {\n",
       "        vertical-align: top;\n",
       "    }\n",
       "\n",
       "    .dataframe thead th {\n",
       "        text-align: right;\n",
       "    }\n",
       "</style>\n",
       "<table border=\"1\" class=\"dataframe\">\n",
       "  <thead>\n",
       "    <tr style=\"text-align: right;\">\n",
       "      <th></th>\n",
       "      <th>Pclass</th>\n",
       "      <th>Survived</th>\n",
       "      <th>count</th>\n",
       "    </tr>\n",
       "  </thead>\n",
       "  <tbody>\n",
       "    <tr>\n",
       "      <th>5</th>\n",
       "      <td>1</td>\n",
       "      <td>No</td>\n",
       "      <td>80</td>\n",
       "    </tr>\n",
       "    <tr>\n",
       "      <th>1</th>\n",
       "      <td>1</td>\n",
       "      <td>Yes</td>\n",
       "      <td>136</td>\n",
       "    </tr>\n",
       "    <tr>\n",
       "      <th>3</th>\n",
       "      <td>2</td>\n",
       "      <td>No</td>\n",
       "      <td>97</td>\n",
       "    </tr>\n",
       "    <tr>\n",
       "      <th>4</th>\n",
       "      <td>2</td>\n",
       "      <td>Yes</td>\n",
       "      <td>87</td>\n",
       "    </tr>\n",
       "    <tr>\n",
       "      <th>0</th>\n",
       "      <td>3</td>\n",
       "      <td>No</td>\n",
       "      <td>372</td>\n",
       "    </tr>\n",
       "    <tr>\n",
       "      <th>2</th>\n",
       "      <td>3</td>\n",
       "      <td>Yes</td>\n",
       "      <td>119</td>\n",
       "    </tr>\n",
       "  </tbody>\n",
       "</table>\n",
       "</div>"
      ],
      "text/plain": [
       "  Pclass Survived  count\n",
       "5      1       No     80\n",
       "1      1      Yes    136\n",
       "3      2       No     97\n",
       "4      2      Yes     87\n",
       "0      3       No    372\n",
       "2      3      Yes    119"
      ]
     },
     "execution_count": 30,
     "metadata": {},
     "output_type": "execute_result"
    }
   ],
   "source": [
    "df_ps.sort_values(['Pclass', 'Survived']) #Spread between passenger class and survival"
   ]
  },
  {
   "cell_type": "code",
   "execution_count": 31,
   "metadata": {},
   "outputs": [
    {
     "data": {
      "image/png": "[encoded data removed]",
      "text/plain": [
       "<Figure size 485.359x432 with 1 Axes>"
      ]
     },
     "metadata": {},
     "output_type": "display_data"
    }
   ],
   "source": [
    "#Calculate percentages\n",
    "df1 = df.groupby(['Pclass']).size().sort_values(ascending=False).reset_index(name='total')\n",
    "\n",
    "result = pd.merge(df_ps, df1, on='Pclass', how='inner')\n",
    "result['Percentage'] = (result['count']*100)/result['total']\n",
    "\n",
    "g = sns.catplot(x=\"Pclass\", y=\"Percentage\", hue=\"Survived\", data=result,\n",
    "                height=6, kind=\"bar\", palette=\"muted\")\n",
    "g.despine(left=True)\n",
    "g.set_ylabels(\"Percentage\")\n",
    "plt.title(\"Passenger Class Vs. Survival Counts\", fontsize=12)\n",
    "plt.grid(True)"
   ]
  },
  {
   "cell_type": "markdown",
   "metadata": {},
   "source": [
    "Data suggests, there is a slightly higher chance of survival if the passenger is from first class, survival chance is almost the same for passengers with a second-class ticket. However, for a passenger with a third-class ticket survival chance is very low. \n",
    "\n",
    "It is safe to assume that ticket class profoundly influences passenger survival chances."
   ]
  },
  {
   "cell_type": "code",
   "execution_count": 32,
   "metadata": {},
   "outputs": [
    {
     "data": {
      "image/png": "[encoded data removed]",
      "text/plain": [
       "<Figure size 485.359x432 with 1 Axes>"
      ]
     },
     "metadata": {},
     "output_type": "display_data"
    }
   ],
   "source": [
    "#Spread between gender and survival\n",
    "df1 = df.groupby(['Sex', 'Survived']).size().sort_values(ascending=False).reset_index(name='count')\n",
    "\n",
    "g = sns.catplot(x=\"Sex\", y=\"count\", hue=\"Survived\", data=df1,\n",
    "                height=6, kind=\"bar\", palette=\"muted\")\n",
    "g.despine(left=True)\n",
    "g.set_ylabels(\"Counts\")\n",
    "plt.title(\"Passengers Gender Vs. Survival Counts\", fontsize=12);\n",
    "plt.grid(True)"
   ]
  },
  {
   "cell_type": "code",
   "execution_count": 33,
   "metadata": {},
   "outputs": [
    {
     "data": {
      "text/html": [
       "<div>\n",
       "<style scoped>\n",
       "    .dataframe tbody tr th:only-of-type {\n",
       "        vertical-align: middle;\n",
       "    }\n",
       "\n",
       "    .dataframe tbody tr th {\n",
       "        vertical-align: top;\n",
       "    }\n",
       "\n",
       "    .dataframe thead th {\n",
       "        text-align: right;\n",
       "    }\n",
       "</style>\n",
       "<table border=\"1\" class=\"dataframe\">\n",
       "  <thead>\n",
       "    <tr style=\"text-align: right;\">\n",
       "      <th></th>\n",
       "      <th>Sex</th>\n",
       "      <th>Survived</th>\n",
       "      <th>count</th>\n",
       "    </tr>\n",
       "  </thead>\n",
       "  <tbody>\n",
       "    <tr>\n",
       "      <th>3</th>\n",
       "      <td>0</td>\n",
       "      <td>No</td>\n",
       "      <td>81</td>\n",
       "    </tr>\n",
       "    <tr>\n",
       "      <th>1</th>\n",
       "      <td>0</td>\n",
       "      <td>Yes</td>\n",
       "      <td>233</td>\n",
       "    </tr>\n",
       "    <tr>\n",
       "      <th>0</th>\n",
       "      <td>1</td>\n",
       "      <td>No</td>\n",
       "      <td>468</td>\n",
       "    </tr>\n",
       "    <tr>\n",
       "      <th>2</th>\n",
       "      <td>1</td>\n",
       "      <td>Yes</td>\n",
       "      <td>109</td>\n",
       "    </tr>\n",
       "  </tbody>\n",
       "</table>\n",
       "</div>"
      ],
      "text/plain": [
       "  Sex Survived  count\n",
       "3   0       No     81\n",
       "1   0      Yes    233\n",
       "0   1       No    468\n",
       "2   1      Yes    109"
      ]
     },
     "execution_count": 33,
     "metadata": {},
     "output_type": "execute_result"
    }
   ],
   "source": [
    "df1.sort_values(['Sex', 'Survived']) #Spread between gender and survival"
   ]
  },
  {
   "cell_type": "markdown",
   "metadata": {},
   "source": [
    "Data suggests, female passengers have higher chance of survival compared to male passengers."
   ]
  },
  {
   "cell_type": "code",
   "execution_count": 34,
   "metadata": {},
   "outputs": [
    {
     "data": {
      "image/png": "[encoded data removed]",
      "text/plain": [
       "<Figure size 864x720 with 1 Axes>"
      ]
     },
     "metadata": {},
     "output_type": "display_data"
    }
   ],
   "source": [
    "#Spread between ticket fare and survival\n",
    "fig, ax = plt.subplots(figsize=(12,10))\n",
    "ax = sns.boxplot(x=\"Survived\", y=\"Fare\", data=df)\n",
    "ax = sns.stripplot(x=\"Survived\", y=\"Fare\", data=df, jitter=True, edgecolor=\"gray\")\n",
    "ax.set_title(\"Ticket Fare Vs. Survival\", fontsize=12);\n",
    "plt.grid(True)"
   ]
  },
  {
   "cell_type": "code",
   "execution_count": 35,
   "metadata": {},
   "outputs": [
    {
     "data": {
      "text/html": [
       "<div>\n",
       "<style scoped>\n",
       "    .dataframe tbody tr th:only-of-type {\n",
       "        vertical-align: middle;\n",
       "    }\n",
       "\n",
       "    .dataframe tbody tr th {\n",
       "        vertical-align: top;\n",
       "    }\n",
       "\n",
       "    .dataframe thead th {\n",
       "        text-align: right;\n",
       "    }\n",
       "</style>\n",
       "<table border=\"1\" class=\"dataframe\">\n",
       "  <thead>\n",
       "    <tr style=\"text-align: right;\">\n",
       "      <th></th>\n",
       "      <th>Pclass</th>\n",
       "      <th>Sex</th>\n",
       "      <th>Age</th>\n",
       "      <th>SibSp</th>\n",
       "      <th>Parch</th>\n",
       "      <th>Fare</th>\n",
       "      <th>Embarked</th>\n",
       "      <th>Title</th>\n",
       "      <th>TicketNumber</th>\n",
       "      <th>Family</th>\n",
       "      <th>Deck</th>\n",
       "      <th>Survived</th>\n",
       "    </tr>\n",
       "  </thead>\n",
       "  <tbody>\n",
       "    <tr>\n",
       "      <th>258</th>\n",
       "      <td>1</td>\n",
       "      <td>0</td>\n",
       "      <td>35.0</td>\n",
       "      <td>0</td>\n",
       "      <td>0</td>\n",
       "      <td>512.3292</td>\n",
       "      <td>0</td>\n",
       "      <td>1</td>\n",
       "      <td>17755</td>\n",
       "      <td>0</td>\n",
       "      <td>8</td>\n",
       "      <td>Yes</td>\n",
       "    </tr>\n",
       "    <tr>\n",
       "      <th>679</th>\n",
       "      <td>1</td>\n",
       "      <td>1</td>\n",
       "      <td>36.0</td>\n",
       "      <td>0</td>\n",
       "      <td>1</td>\n",
       "      <td>512.3292</td>\n",
       "      <td>0</td>\n",
       "      <td>2</td>\n",
       "      <td>17755</td>\n",
       "      <td>0</td>\n",
       "      <td>1</td>\n",
       "      <td>Yes</td>\n",
       "    </tr>\n",
       "    <tr>\n",
       "      <th>737</th>\n",
       "      <td>1</td>\n",
       "      <td>1</td>\n",
       "      <td>35.0</td>\n",
       "      <td>0</td>\n",
       "      <td>0</td>\n",
       "      <td>512.3292</td>\n",
       "      <td>0</td>\n",
       "      <td>2</td>\n",
       "      <td>17755</td>\n",
       "      <td>0</td>\n",
       "      <td>1</td>\n",
       "      <td>Yes</td>\n",
       "    </tr>\n",
       "  </tbody>\n",
       "</table>\n",
       "</div>"
      ],
      "text/plain": [
       "    Pclass Sex   Age  SibSp  Parch      Fare Embarked Title TicketNumber  \\\n",
       "258      1   0  35.0      0      0  512.3292        0     1        17755   \n",
       "679      1   1  36.0      0      1  512.3292        0     2        17755   \n",
       "737      1   1  35.0      0      0  512.3292        0     2        17755   \n",
       "\n",
       "    Family Deck Survived  \n",
       "258      0    8      Yes  \n",
       "679      0    1      Yes  \n",
       "737      0    1      Yes  "
      ]
     },
     "execution_count": 35,
     "metadata": {},
     "output_type": "execute_result"
    }
   ],
   "source": [
    "#Passengers paying fare greater than dollars 500\n",
    "df[df['Fare']>=500].head(10)"
   ]
  },
  {
   "cell_type": "markdown",
   "metadata": {},
   "source": [
    "Data suggests that there are few outliers in survival class that has paid above \\$500 per ticket. However, it would be incorrect assumption that paying higher fare saves lives. It could be a coincidence that passengers booked a first class ticket at the last minute. Overall, data distribution looks normal."
   ]
  },
  {
   "cell_type": "code",
   "execution_count": 36,
   "metadata": {},
   "outputs": [
    {
     "data": {
      "image/png": "[encoded data removed]",
      "text/plain": [
       "<Figure size 485.359x432 with 1 Axes>"
      ]
     },
     "metadata": {},
     "output_type": "display_data"
    }
   ],
   "source": [
    "#Spread between embarked and survival\n",
    "df_e = df.groupby(['Embarked', 'Survived']).size().sort_values(ascending=False).reset_index(name='count')\n",
    "df_e['Embarked'] = df_e['Embarked'].map({0:'C', 1:'Q', 2:'S'})\n",
    "\n",
    "g = sns.catplot(x=\"Embarked\", y=\"count\", hue=\"Survived\", data=df_e,\n",
    "                height=6, kind=\"bar\", palette=\"muted\")\n",
    "g.despine(left=True)\n",
    "g.set_ylabels(\"Counts\")\n",
    "plt.title(\"Boarding Port Vs. Survival Counts\", fontsize=12)\n",
    "plt.grid(True)"
   ]
  },
  {
   "cell_type": "code",
   "execution_count": 37,
   "metadata": {},
   "outputs": [
    {
     "data": {
      "image/png": "[encoded data removed]",
      "text/plain": [
       "<Figure size 485.359x432 with 1 Axes>"
      ]
     },
     "metadata": {},
     "output_type": "display_data"
    }
   ],
   "source": [
    "#Calculate percentages\n",
    "df_ep = df.groupby(['Embarked']).size().sort_values(ascending=False).reset_index(name='total')\n",
    "df_ep['Embarked'] = df_ep['Embarked'].map({0:'C', 1:'Q', 2:'S'})\n",
    "\n",
    "result = pd.merge(df_e, df_ep, on='Embarked', how='inner')\n",
    "result['Percentage'] = (result['count']*100)/result['total']\n",
    "\n",
    "g = sns.catplot(x=\"Embarked\", y=\"Percentage\", hue=\"Survived\", data=result,\n",
    "                height=6, kind=\"bar\", palette=\"muted\")\n",
    "g.despine(left=True)\n",
    "g.set_ylabels(\"Percentage\")\n",
    "plt.title(\"Boarding Port Vs. Survival Counts\", fontsize=12)\n",
    "plt.grid(True)"
   ]
  },
  {
   "cell_type": "markdown",
   "metadata": {},
   "source": [
    "Data suggests, passengers boarding from Southampton port has low survival chance compared to a passenger from other ports. However, it is also true that a high number of passengers boarded from Southhampton port.\n",
    "\n",
    "When counts are converted into percentages, survival chance is approximately the same for both the Southhampton and Queenstown ports. It is low compared to Cherbourg. On the other hand, the chance of survival vs.not is almost the same for passengers boarding from Cherbourg port.\n",
    "\n",
    "It is safe to assume that boarding port has no substantial influence on passenger survival."
   ]
  },
  {
   "cell_type": "code",
   "execution_count": 38,
   "metadata": {},
   "outputs": [
    {
     "data": {
      "image/png": "[encoded data removed]",
      "text/plain": [
       "<Figure size 485.359x432 with 1 Axes>"
      ]
     },
     "metadata": {},
     "output_type": "display_data"
    }
   ],
   "source": [
    "#Spread between title and survival\n",
    "df_t = df.groupby(['Title', 'Survived']).size().sort_values(ascending=True).reset_index(name='count')\n",
    "df_t['Title'] = df_t['Title'].map({0:'Mrs', 1:'Miss', 2:'Mr', 3:'Master', 4:'Officer', 5:'Royalty'})\n",
    "\n",
    "g = sns.catplot(x=\"Title\", y=\"count\", hue=\"Survived\", data=df_t,\n",
    "                height=6, kind=\"bar\", palette=\"muted\")\n",
    "g.despine(left=True)\n",
    "g.set_ylabels(\"Counts\")\n",
    "plt.title(\"Title Vs. Survival Counts\", fontsize=12)\n",
    "plt.grid(True)"
   ]
  },
  {
   "cell_type": "markdown",
   "metadata": {},
   "source": [
    "Data suggests that female passengers has higher chance of survival."
   ]
  },
  {
   "cell_type": "code",
   "execution_count": 39,
   "metadata": {},
   "outputs": [
    {
     "data": {
      "image/png": "[encoded data removed]",
      "text/plain": [
       "<Figure size 485.359x432 with 1 Axes>"
      ]
     },
     "metadata": {},
     "output_type": "display_data"
    }
   ],
   "source": [
    "#Spread between Deck and survival\n",
    "df_d = df.groupby(['Deck', 'Survived']).size().sort_values(ascending=True).reset_index(name='count')\n",
    "df_d['Deck'] = df_d['Deck'].map({0:'A', 1:'B', 2:'C', 3:'D', 4:'E', 5:'F', 6:'G', 7:'T', 8:'U'})\n",
    "\n",
    "g = sns.catplot(x=\"Deck\", y=\"count\", hue=\"Survived\", data=df_d,\n",
    "                height=6, kind=\"bar\", palette=\"muted\")\n",
    "g.despine(left=True)\n",
    "g.set_ylabels(\"Counts\")\n",
    "plt.title(\"Deck Vs. Survival Counts\", fontsize=12)\n",
    "plt.grid(True)"
   ]
  },
  {
   "cell_type": "code",
   "execution_count": 40,
   "metadata": {},
   "outputs": [
    {
     "data": {
      "image/png": "[encoded data removed]",
      "text/plain": [
       "<Figure size 485.359x432 with 1 Axes>"
      ]
     },
     "metadata": {},
     "output_type": "display_data"
    }
   ],
   "source": [
    "#Spread between Family and survival\n",
    "df_f = df.groupby(['Family', 'Survived']).size().sort_values(ascending=True).reset_index(name='count')\n",
    "df_f['Family'] = df_f['Family'].map({0:'Single', 1:'Small', 2:'Large'})\n",
    "\n",
    "g = sns.catplot(x=\"Family\", y=\"count\", hue=\"Survived\", data=df_f,\n",
    "                height=6, kind=\"bar\", palette=\"muted\")\n",
    "g.despine(left=True)\n",
    "g.set_ylabels(\"Counts\")\n",
    "plt.title(\"Family Vs. Survival Counts\", fontsize=12)\n",
    "plt.grid(True)"
   ]
  },
  {
   "cell_type": "markdown",
   "metadata": {},
   "source": [
    "_Deck_ and _Family_ are derived variables. No clear inference can be drawn from these variables other than there were more single passengers on board.\n",
    "\n",
    "#### Variable Importance To The Model\n",
    "\n",
    "Using _LogisticRegression_ module let's see importance of variable to the model."
   ]
  },
  {
   "cell_type": "code",
   "execution_count": 41,
   "metadata": {},
   "outputs": [
    {
     "name": "stdout",
     "output_type": "stream",
     "text": [
      "[ True  True  True  True  True  True  True  True  True  True  True]\n",
      "[1 1 1 1 1 1 1 1 1 1 1]\n"
     ]
    }
   ],
   "source": [
    "# Create independent variable list\n",
    "X = pipelineOutput\n",
    "\n",
    "# Create dependent variable\n",
    "y = y_train\n",
    "\n",
    "logreg = LogisticRegression()\n",
    "\n",
    "rfe = RFE(logreg, 20)\n",
    "rfe = rfe.fit(X, y.values.ravel())\n",
    "print(rfe.support_)\n",
    "print(rfe.ranking_)"
   ]
  },
  {
   "cell_type": "markdown",
   "metadata": {},
   "source": [
    "Recursive Feature Elimination(_RFE_) suggests that all variables are contributing to the model in predicting dependent variable _Survived_.\n",
    "\n",
    "Using _RandomForestRegressor_ module let's see importance of variable to the model."
   ]
  },
  {
   "cell_type": "code",
   "execution_count": 42,
   "metadata": {},
   "outputs": [
    {
     "data": {
      "text/plain": [
       "<matplotlib.axes._subplots.AxesSubplot at 0x7fd1793fd6d8>"
      ]
     },
     "execution_count": 42,
     "metadata": {},
     "output_type": "execute_result"
    },
    {
     "data": {
      "image/png": "[encoded data removed]",
      "text/plain": [
       "<Figure size 432x288 with 1 Axes>"
      ]
     },
     "metadata": {},
     "output_type": "display_data"
    }
   ],
   "source": [
    "# Initiate the model\n",
    "model = RandomForestRegressor(n_estimators=100, random_state=1, oob_score=True)\n",
    "model.fit(X, y)\n",
    "\n",
    "#Get ROC values\n",
    "roc_auc_score(y, model.oob_prediction_)\n",
    "\n",
    "#Extract variable importance\n",
    "features = pd.DataFrame()\n",
    "features['feature'] = X.columns\n",
    "features['importance'] = model.feature_importances_\n",
    "features.sort_values(by=['importance'], ascending=True, inplace=True)\n",
    "features.set_index('feature', inplace=True)\n",
    "features.plot(kind='barh', grid=True)\n"
   ]
  },
  {
   "cell_type": "markdown",
   "metadata": {},
   "source": [
    "#### Model\n",
    "\n",
    "Since the dependent variable is binary, it is appropriate to use _Logistic Regression_. I will be using two different methods to build the model using the _sklearn_ library.\n",
    "\n",
    "#### Logistic Regression"
   ]
  },
  {
   "cell_type": "code",
   "execution_count": 43,
   "metadata": {},
   "outputs": [
    {
     "name": "stderr",
     "output_type": "stream",
     "text": [
      "/home/data622/anaconda3/lib/python3.6/site-packages/sklearn/utils/deprecation.py:122: FutureWarning: You are accessing a training score ('train_score'), which will not be available by default any more in 0.21. If you need training scores, please set return_train_score=True\n",
      "  warnings.warn(*warn_args, **warn_kwargs)\n"
     ]
    },
    {
     "data": {
      "text/plain": [
       "{'fit_time': array([1.36492848, 0.94808793, 0.97768593]),\n",
       " 'score_time': array([0.67824411, 0.6361258 , 0.7568326 ]),\n",
       " 'test_score': array([0.62289562, 0.68013468, 0.61616162]),\n",
       " 'train_score': array([0.67845118, 0.65993266, 0.61616162])}"
      ]
     },
     "execution_count": 43,
     "metadata": {},
     "output_type": "execute_result"
    }
   ],
   "source": [
    "#Building logistic regression\n",
    "pipeline = Pipeline([\n",
    "    ('final_dataset', iPipeLine),\n",
    "    ('clf', LogisticRegression())\n",
    "])\n",
    "\n",
    "scores = cross_validate(pipeline, X_train, y_train)\n",
    "scores"
   ]
  },
  {
   "cell_type": "code",
   "execution_count": 44,
   "metadata": {},
   "outputs": [
    {
     "name": "stdout",
     "output_type": "stream",
     "text": [
      "Accuracy of logistic regression classifier on test set: 0.64\n"
     ]
    }
   ],
   "source": [
    "print('Accuracy of logistic regression classifier on test set: {:.2f}'.format(scores['test_score'].mean()))"
   ]
  },
  {
   "cell_type": "code",
   "execution_count": 45,
   "metadata": {},
   "outputs": [
    {
     "name": "stdout",
     "output_type": "stream",
     "text": [
      "---------------------------------\n",
      "LogisticRegression(C=1.0, class_weight=None, dual=False, fit_intercept=True,\n",
      "          intercept_scaling=1, max_iter=100, multi_class='ovr', n_jobs=1,\n",
      "          penalty='l2', random_state=None, solver='liblinear', tol=0.0001,\n",
      "          verbose=0, warm_start=False)\n",
      "-----------------------------------\n",
      "fit_time  mean  1.0082227389017742\n",
      "fit_time  std  0.12431664872946221\n",
      "score_time  mean  0.7112294832865397\n",
      "score_time  std  0.053306462833147564\n",
      "test_score  mean  0.6408529741863075\n",
      "test_score  std  0.03028223919917405\n",
      "train_score  mean  0.6487093153759821\n",
      "train_score  std  0.024945129933662057\n",
      "---------------------------------\n",
      "RandomForestRegressor(bootstrap=True, criterion='mse', max_depth=None,\n",
      "           max_features='auto', max_leaf_nodes=None,\n",
      "           min_impurity_decrease=0.0, min_impurity_split=None,\n",
      "           min_samples_leaf=1, min_samples_split=2,\n",
      "           min_weight_fraction_leaf=0.0, n_estimators=10, n_jobs=1,\n",
      "           oob_score=False, random_state=None, verbose=0, warm_start=False)\n",
      "-----------------------------------\n",
      "fit_time  mean  0.9739747842152914\n",
      "fit_time  std  0.031202537709319675\n",
      "score_time  mean  0.6797858079274496\n",
      "score_time  std  0.01503690272288645\n",
      "test_score  mean  0.35692517686023684\n",
      "test_score  std  0.11979224889728528\n",
      "train_score  mean  0.88807235567847\n",
      "train_score  std  0.008205697001950205\n"
     ]
    }
   ],
   "source": [
    "clfs = []\n",
    "clfs.append(LogisticRegression())\n",
    "clfs.append(RandomForestRegressor())\n",
    "\n",
    "for classifier in clfs:\n",
    "    pipeline.set_params(clf = classifier)\n",
    "    scores = cross_validate(pipeline, X_train, y_train)\n",
    "    print('---------------------------------')\n",
    "    print(str(classifier))\n",
    "    print('-----------------------------------')\n",
    "    for key, values in scores.items():\n",
    "            print(key,' mean ', values.mean())\n",
    "            print(key,' std ', values.std())"
   ]
  },
  {
   "cell_type": "markdown",
   "metadata": {},
   "source": [
    "The Classifier _Logistic Regression_ has the highest accuracy of 64%, hence choosing _Logistic Regression_."
   ]
  },
  {
   "cell_type": "code",
   "execution_count": 46,
   "metadata": {},
   "outputs": [
    {
     "data": {
      "text/plain": [
       "GridSearchCV(cv=None, error_score='raise',\n",
       "       estimator=Pipeline(memory=None,\n",
       "     steps=[('final_dataset', Pipeline(memory=None,\n",
       "     steps=[('e_cols', Pipeline(memory=None,\n",
       "     steps=[('d_cols', Pipeline(memory=None,\n",
       "     steps=[('d_cols', derivedColumns(columns=['Name', 'Ticket', 'Family', 'Deck']))])), ('e_cols', eliminateColumns(columns=['Name', 'Ticket', 'Cabin', 'Passenger...ty='l2', random_state=None, solver='liblinear', tol=0.0001,\n",
       "          verbose=0, warm_start=False))]),\n",
       "       fit_params=None, iid=True, n_jobs=1,\n",
       "       param_grid={'clf__penalty': ['l1', 'l2'], 'clf__C': [0.001, 0.01, 0.1, 1, 10], 'clf__random_state': [1]},\n",
       "       pre_dispatch='2*n_jobs', refit=True, return_train_score='warn',\n",
       "       scoring=None, verbose=0)"
      ]
     },
     "execution_count": 46,
     "metadata": {},
     "output_type": "execute_result"
    }
   ],
   "source": [
    "#Pass variables using GridSearchCV\n",
    "pipeline.set_params(clf= LogisticRegression())\n",
    "pipeline.steps\n",
    "\n",
    "reg_param_grid = dict(\n",
    "                  clf__penalty=['l1', 'l2'],\n",
    "                  clf__C=[0.001, 0.01, 0.1, 1, 10],\n",
    "                  clf__random_state=[1]\n",
    ")\n",
    "\n",
    "cv_grid = GridSearchCV(pipeline, param_grid = reg_param_grid)\n",
    "\n",
    "cv_grid.fit(X_train, y_train)"
   ]
  },
  {
   "cell_type": "code",
   "execution_count": 47,
   "metadata": {},
   "outputs": [
    {
     "data": {
      "text/plain": [
       "{'clf__C': 10, 'clf__penalty': 'l1', 'clf__random_state': 1}"
      ]
     },
     "execution_count": 47,
     "metadata": {},
     "output_type": "execute_result"
    }
   ],
   "source": [
    "#As we are using various penalty or C values\n",
    "cv_grid.best_params_"
   ]
  },
  {
   "cell_type": "code",
   "execution_count": 48,
   "metadata": {},
   "outputs": [
    {
     "data": {
      "text/plain": [
       "Pipeline(memory=None,\n",
       "     steps=[('final_dataset', Pipeline(memory=None,\n",
       "     steps=[('e_cols', Pipeline(memory=None,\n",
       "     steps=[('d_cols', Pipeline(memory=None,\n",
       "     steps=[('d_cols', derivedColumns(columns=['Name', 'Ticket', 'Family', 'Deck']))])), ('e_cols', eliminateColumns(columns=['Name', 'Ticket', 'Cabin', 'Passenger...nalty='l1', random_state=1, solver='liblinear', tol=0.0001,\n",
       "          verbose=0, warm_start=False))])"
      ]
     },
     "execution_count": 48,
     "metadata": {},
     "output_type": "execute_result"
    }
   ],
   "source": [
    "#\n",
    "cv_grid.best_estimator_"
   ]
  },
  {
   "cell_type": "code",
   "execution_count": 49,
   "metadata": {},
   "outputs": [
    {
     "data": {
      "text/plain": [
       "0.7946127946127947"
      ]
     },
     "execution_count": 49,
     "metadata": {},
     "output_type": "execute_result"
    }
   ],
   "source": [
    "cv_grid.best_score_"
   ]
  },
  {
   "cell_type": "code",
   "execution_count": 50,
   "metadata": {},
   "outputs": [
    {
     "name": "stdout",
     "output_type": "stream",
     "text": [
      "Accuracy of the best classifier after CV is 80.471%\n"
     ]
    }
   ],
   "source": [
    "y_pred = cv_grid.predict(X_train)\n",
    "accuracy = accuracy_score(y_train,y_pred)\n",
    "print('Accuracy of the best classifier after CV is %.3f%%' % (accuracy*100))"
   ]
  },
  {
   "cell_type": "code",
   "execution_count": 51,
   "metadata": {},
   "outputs": [
    {
     "name": "stdout",
     "output_type": "stream",
     "text": [
      "[[478  71]\n",
      " [103 239]]\n"
     ]
    },
    {
     "data": {
      "text/plain": [
       "Text(0.5,1,'Confusion Matrix - Survived')"
      ]
     },
     "execution_count": 51,
     "metadata": {},
     "output_type": "execute_result"
    },
    {
     "data": {
      "image/png": "[encoded data removed]",
      "text/plain": [
       "<Figure size 432x360 with 2 Axes>"
      ]
     },
     "metadata": {},
     "output_type": "display_data"
    }
   ],
   "source": [
    "from sklearn.metrics import confusion_matrix as cm\n",
    "labels = ['Observed', 'Predicted']\n",
    "cm = cm(y_train, y_pred)\n",
    "print(cm)\n",
    "\n",
    "#Graphical display of confusion matrix\n",
    "fig, ax = plt.subplots(figsize=(6,5))\n",
    "fontsize=12\n",
    "heatmap = sns.heatmap(cm, annot=True, fmt=\"d\", cmap=\"YlGnBu\", yticklabels=['No', 'Yes'], xticklabels=['No', 'Yes'])\n",
    "heatmap.yaxis.set_ticklabels(heatmap.yaxis.get_ticklabels(), rotation=0, ha='right', fontsize=fontsize)\n",
    "heatmap.xaxis.set_ticklabels(heatmap.xaxis.get_ticklabels(), rotation=0, ha='right', fontsize=fontsize)\n",
    "plt.ylabel('Observed')\n",
    "plt.xlabel('Predicted')\n",
    "plt.title('Confusion Matrix - Survived')"
   ]
  },
  {
   "cell_type": "markdown",
   "metadata": {},
   "source": [
    "Using _Logistic Regression_ module from _sklearn_ library, model predicts \n",
    "\n",
    "- 478 passengers did not survive, true positive.\n",
    "- 103 passengers did not survive, in reality they survived, false positive\n",
    "- 71 passengers as survived, in reality they did not survive, false negative\n",
    "- 239 passengers as survived, true negative"
   ]
  },
  {
   "cell_type": "code",
   "execution_count": 52,
   "metadata": {},
   "outputs": [
    {
     "name": "stdout",
     "output_type": "stream",
     "text": [
      "             precision    recall  f1-score   support\n",
      "\n",
      "          0       0.82      0.87      0.85       549\n",
      "          1       0.77      0.70      0.73       342\n",
      "\n",
      "avg / total       0.80      0.80      0.80       891\n",
      "\n"
     ]
    }
   ],
   "source": [
    "#Show precision and f1-score\n",
    "print(classification_report(y_train, y_pred))"
   ]
  },
  {
   "cell_type": "markdown",
   "metadata": {},
   "source": [
    "Precision, is the ratio of correctly predicted positive observations to the total predicted positive observations. In our case,\n",
    "\n",
    "Not Survived(0) = $\\frac{TP}{TP+FP} = \\frac{478}{478+103} = 0.82$\n",
    "\n",
    "Survived(1) = $\\frac{TN}{TN+FN} = \\frac{239}{73+239} = 0.77$\n",
    "\n",
    "Recall, also known as sensitivity is the ratio of correctly predicted positive observations to the all observations in actual class - yes\n",
    "\n",
    "Not Survived(0) = $\\frac{TP}{TP+FN} = \\frac{476}{476+73} = 0.87$\n",
    "\n",
    "Survived(1) = $\\frac{TN}{TN+FP} = \\frac{239}{239+103} = 0.70$\n",
    "\n",
    "F1 Score is the weighted average of Precision and Recall, in other words it _Harmonic mean_ of Precision and Recall\n",
    "\n",
    "Not Survived(0) = $\\frac{2*0.82*0.87}{0.82 + 0.87} = 0.84$\n",
    "\n",
    "Survived(1) = $\\frac{2*0.77*0.70}{0.77 + 0.70} = 0.73$"
   ]
  },
  {
   "cell_type": "code",
   "execution_count": 53,
   "metadata": {},
   "outputs": [
    {
     "data": {
      "image/png": "[encoded data removed]",
      "text/plain": [
       "<Figure size 432x288 with 1 Axes>"
      ]
     },
     "metadata": {},
     "output_type": "display_data"
    }
   ],
   "source": [
    "#Draw ROC Curve\n",
    "logit_roc_auc = roc_auc_score(y_train, y_pred)\n",
    "fpr, tpr, thresholds = roc_curve(y_train, cv_grid.predict_proba(X_train)[:,1])\n",
    "plt.figure()\n",
    "plt.plot(fpr, tpr, label='Logistic Regression (area = %0.2f)' % logit_roc_auc)\n",
    "plt.plot([0, 1], [0, 1],'r--')\n",
    "plt.xlim([0.0, 1.0])\n",
    "plt.ylim([0.0, 1.05])\n",
    "plt.xlabel('False Positive Rate')\n",
    "plt.ylabel('True Positive Rate')\n",
    "plt.title('Receiver operating characteristic')\n",
    "plt.legend(loc=\"lower right\")\n",
    "plt.grid(True)\n",
    "plt.show()"
   ]
  },
  {
   "cell_type": "markdown",
   "metadata": {},
   "source": [
    "In case of ROC, higher value of area under the curve(AUC) means better model. In our case it 0.78."
   ]
  },
  {
   "cell_type": "markdown",
   "metadata": {},
   "source": [
    "#### References\n",
    "- https://ahmedbesbes.com/how-to-score-08134-in-titanic-kaggle-challenge.html\n",
    "- https://www.datacamp.com/community/tutorials/categorical-data\n",
    "- https://www.youtube.com/watch?v=0GrciaGYzV0\n",
    "- https://www.youtube.com/watch?v=URdnFlZnlaE\n",
    "- https://towardsdatascience.com/building-a-logistic-regression-in-python-step-by-step-becd4d56c9c8\n",
    "- https://blog.exsilio.com/all/accuracy-precision-recall-f1-score-interpretation-of-performance-measures/\n",
    "- https://towardsdatascience.com/train-test-split-and-cross-validation-in-python-80b61beca4b6\n",
    "- https://towardsdatascience.com/the-tale-of-missing-values-in-python-c96beb0e8a9d\n",
    "- https://www.kaggle.com/poonaml/titanic-survival-prediction-end-to-end-ml-pipeline/notebook\n",
    "- http://www.colaberry.com/data-science-predictive-analytics-pipeline/\n",
    "- http://blog.madhukaraphatak.com/analysing-kaggle-titanic-data/\n",
    "- http://www.ultravioletanalytics.com/blog/kaggle-titanic-competition-part-iv-derived-variables\n",
    "- https://github.com/philipmgoddard/pipelines/blob/master/pipe_demo.ipynb\n",
    "- https://www.kaggle.com/gautham11/building-a-scikit-learn-classification-pipeline"
   ]
  }
 ],
 "metadata": {
  "kernelspec": {
   "display_name": "Python 3",
   "language": "python",
   "name": "python3"
  },
  "language_info": {
   "codemirror_mode": {
    "name": "ipython",
    "version": 3
   },
   "file_extension": ".py",
   "mimetype": "text/x-python",
   "name": "python",
   "nbconvert_exporter": "python",
   "pygments_lexer": "ipython3",
   "version": "3.6.5"
  }
 },
 "nbformat": 4,
 "nbformat_minor": 2
}
